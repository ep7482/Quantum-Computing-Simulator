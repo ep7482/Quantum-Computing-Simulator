{
 "cells": [
  {
   "cell_type": "markdown",
   "metadata": {},
   "source": [
    "# Quantum Computing Project 1"
   ]
  },
  {
   "cell_type": "code",
   "execution_count": 26,
   "metadata": {},
   "outputs": [],
   "source": [
    "import numpy as np\n",
    "import math\n",
    "import cmath\n",
    "import scipy.sparse\n",
    "import sympy\n",
    "import random\n",
    "import matplotlib.pyplot as plt"
   ]
  },
  {
   "cell_type": "code",
   "execution_count": 118,
   "metadata": {},
   "outputs": [],
   "source": [
    "def prettyPrintBinary(state):\n",
    "    string = '( '\n",
    "    for i in state:\n",
    "        string += f'{i[0]} |{i[1]}> + '\n",
    "    string = string[:-2]\n",
    "    string += ')'\n",
    "    return string\n",
    "\n",
    "def prettyPrintInteger(State):\n",
    "    string = '( '\n",
    "    for i in range(len(State)):\n",
    "        x = 0\n",
    "        for j in range(len(State[i][1])):\n",
    "            x += int(State[i][1][j]) * (2**(len(State[i][1]) - (j+1)))\n",
    "        string += f'{State[i][0]} |{x}> + '\n",
    "    string = string[:-2]\n",
    "    string += ')'\n",
    "    return string\n",
    "\n",
    "def StateToVec(myState):\n",
    "    vect = np.zeros(2**len(myState[0][1]),dtype='complex')\n",
    "    xList,pList = [],[]\n",
    "    for i in range(len(myState)):\n",
    "        x = 0\n",
    "        for j in range(len(myState[i][1])):\n",
    "            x += int(myState[i][1][j]) * (2**(len(myState[i][1]) - (j+1)))\n",
    "        xList.append(x)\n",
    "        pList.append(myState[i][0])\n",
    "    for k in range(len(xList)):\n",
    "        for l in range(len(vect)):\n",
    "            if xList[k] == l:\n",
    "                vect[l] = pList[k]\n",
    "    return vect\n",
    "\n",
    "def VecToBinary(myVec,Note):\n",
    "    state = '('\n",
    "    vect = 0\n",
    "    for i in range(len(myVec)):\n",
    "        if Note == \"Binary\":\n",
    "            var = \"{0:b}\".format(i)\n",
    "        elif Note == \"Decimal\":\n",
    "            var = i\n",
    "        if myVec[i] == 0.0:\n",
    "            continue\n",
    "        binary = \"{0:b}\".format(i)\n",
    "        if myVec[i].imag != 0:\n",
    "            vect = str(myVec[i].imag) + 'j'\n",
    "        else:\n",
    "            vect = myVec[i].real\n",
    "        state += f'{vect} |{var}> + '\n",
    "    state = state[:-2]\n",
    "    state += ')'\n",
    "    return state\n",
    "\n",
    "#             tup = (myVec[i],\"{0:b}\".format(i))\n",
    "def VecToState(myVec):\n",
    "    myState = []\n",
    "    for i in range(len(myVec)):\n",
    "        if myVec[i] != 0:\n",
    "            pad = int(np.log2(len(myVec)))\n",
    "            string = \"{0:b}\".format(i)\n",
    "            padding = pad - len(string)\n",
    "            string = padding*'0' + '{0:b}'.format(i)\n",
    "            tup = (myVec[i],string)\n",
    "            myState.append(tup)\n",
    "    return myState\n",
    "\n",
    "def CircuitMeasurement(V):\n",
    "    vectorOut = (abs(V))**2\n",
    "    probList = [(0,0)]\n",
    "    z = 0\n",
    "    for i in range(len(vectorOut)):\n",
    "        if vectorOut[i] == 0:\n",
    "            continue\n",
    "        z = z + vectorOut[i]\n",
    "        probList.append((z,i))\n",
    "    randomNum = np.random.uniform()\n",
    "    for i in range(len(probList) - 1):\n",
    "        if probList[i][0] <= randomNum <= probList[i+1][0]:\n",
    "            wire= probList[i+1][1]\n",
    "    \n",
    "    for i in range(len(V)):\n",
    "        if V[i] != 0:\n",
    "            pad = int(np.log2(len(V)))\n",
    "            string = \"{0:b}\".format(wire)\n",
    "            padding = pad - len(string)\n",
    "            string = padding*'0' + '{0:b}'.format(wire)   \n",
    "    return string,f'Circuit Measurement: {string}'\n",
    "\n",
    "def binaryToDecimal(binary): \n",
    "    binary1 = binary \n",
    "    decimal, i, n = 0, 0, 0\n",
    "    while(binary != 0): \n",
    "        dec = binary % 10\n",
    "        decimal = decimal + dec * pow(2, i) \n",
    "        binary = binary//10\n",
    "        i += 1\n",
    "    return decimal\n",
    "\n",
    "def phaseEstimation(topWire,string):\n",
    "    stri = string[:topWire]\n",
    "    stri = stri[::-1]\n",
    "    l = 0\n",
    "    for j in range(len(stri)):\n",
    "        l += int(stri[j])*(1/(2**(j+1)))\n",
    "    return l\n",
    "\n",
    "def Max(array):\n",
    "    k = 0\n",
    "    l = 0\n",
    "    for i in range(len(array)):\n",
    "        if array[i] >= k:\n",
    "            k = array[i]\n",
    "            l = i\n",
    "    return l,k"
   ]
  },
  {
   "cell_type": "code",
   "execution_count": 107,
   "metadata": {},
   "outputs": [
    {
     "name": "stdout",
     "output_type": "stream",
     "text": [
      "( 0.31622776601683794j |101> + 0.7071067811865476 |000> + -0.6324555320336759 |010> )\n",
      "( 0.31622776601683794j |5> + 0.7071067811865476 |0> + -0.6324555320336759 |2> )\n",
      "[ 0.70710678+0.j          0.        +0.j         -0.63245553+0.j\n",
      "  0.        +0.j          0.        +0.j          0.        +0.31622777j\n",
      "  0.        +0.j          0.        +0.j        ]\n",
      "[((0.7071067811865476+0j), '000'), ((-0.6324555320336759+0j), '010'), (0.31622776601683794j, '101')]\n"
     ]
    }
   ],
   "source": [
    "myState2=[\n",
    "(np.sqrt(0.1)*1.j, '101'),\n",
    "(np.sqrt(0.5), '000') ,\n",
    "(-np.sqrt(0.4), '010' )\n",
    "]\n",
    "print(prettyPrintBinary(myState2))\n",
    "print(prettyPrintInteger(myState2))\n",
    "print(StateToVec(myState2))\n",
    "print(VecToState(StateToVec(myState2)))"
   ]
  },
  {
   "cell_type": "code",
   "execution_count": 29,
   "metadata": {},
   "outputs": [],
   "source": [
    " def ReadInput(fileName):\n",
    "        myInput_lines=open(fileName).readlines()\n",
    "        myInput=[]\n",
    "        numberOfWires=int(myInput_lines[0])\n",
    "        for line in myInput_lines[1:]:\n",
    "            myInput.append(line.split())\n",
    "        return (numberOfWires,myInput)\n",
    "\n",
    "def ReadInputState(fileName):\n",
    "        myInput_lines=open(fileName).readlines()\n",
    "        myInput=[]\n",
    "        for line in myInput_lines[0:]:\n",
    "            myInput.append(line.split())\n",
    "        for i in range(len(myInput)):\n",
    "            for j in range(len(myInput[0])):\n",
    "                myInput[i][j] = float(myInput[i][j])\n",
    "        k = []\n",
    "        for i in range(len(myInput)):\n",
    "            pad = int(np.log2(len(myInput)))\n",
    "            string = \"{0:b}\".format(i)\n",
    "            padding = pad - len(string)\n",
    "            string = padding*'0' + '{0:b}'.format(i)  \n",
    "            k.append((complex(myInput[i][0],myInput[i][1]),string))\n",
    "        return k\n",
    "            \n",
    "def Read(fileName):\n",
    "    myInput_lines=open(fileName).readlines()\n",
    "    myInput=[]\n",
    "    for line in myInput_lines[0:]:\n",
    "        myInput.append(line.split())\n",
    "    for i in range(len(myInput)):\n",
    "        myInput[i] = float(myInput[i][0])\n",
    "    return myInput"
   ]
  },
  {
   "cell_type": "code",
   "execution_count": 102,
   "metadata": {},
   "outputs": [
    {
     "ename": "TypeError",
     "evalue": "phase_estimation_circuit_gen() missing 2 required positional arguments: 'num' and 'yes'",
     "output_type": "error",
     "traceback": [
      "\u001b[1;31m---------------------------------------------------------------------------\u001b[0m",
      "\u001b[1;31mTypeError\u001b[0m                                 Traceback (most recent call last)",
      "\u001b[1;32m<ipython-input-102-213b9f7ae291>\u001b[0m in \u001b[0;36m<module>\u001b[1;34m\u001b[0m\n\u001b[1;32m----> 1\u001b[1;33m \u001b[0mphase_estimation_circuit_gen\u001b[0m\u001b[1;33m(\u001b[0m\u001b[1;36m7\u001b[0m\u001b[1;33m)\u001b[0m\u001b[1;33m\u001b[0m\u001b[1;33m\u001b[0m\u001b[0m\n\u001b[0m",
      "\u001b[1;31mTypeError\u001b[0m: phase_estimation_circuit_gen() missing 2 required positional arguments: 'num' and 'yes'"
     ]
    }
   ],
   "source": [
    "phase_estimation_circuit_gen(7)"
   ]
  },
  {
   "cell_type": "code",
   "execution_count": 31,
   "metadata": {},
   "outputs": [],
   "source": [
    "def InverseQFT(filename):\n",
    "    num_of_wires,qft = ReadInput(filename)\n",
    "    inverse_qft = qft[::-1]\n",
    "    for i in range(len(inverse_qft)):\n",
    "        if inverse_qft[i][0] == 'CPHASE':\n",
    "            inverse_qft[i][-1] = '-' + inverse_qft[i][-1]\n",
    "    return inverse_qft"
   ]
  },
  {
   "cell_type": "code",
   "execution_count": 32,
   "metadata": {},
   "outputs": [
    {
     "data": {
      "text/plain": [
       "[['H', '0'],\n",
       " ['CPHASE', '0', '1', '-1.5707963267948966'],\n",
       " ['CPHASE', '0', '2', '-0.7853981633974483'],\n",
       " ['H', '1'],\n",
       " ['CPHASE', '1', '2', '-1.5707963267948966'],\n",
       " ['H', '2']]"
      ]
     },
     "execution_count": 32,
     "metadata": {},
     "output_type": "execute_result"
    }
   ],
   "source": [
    "InverseQFT('QFT_3.txt')"
   ]
  },
  {
   "cell_type": "code",
   "execution_count": 33,
   "metadata": {},
   "outputs": [],
   "source": [
    "def tensorMe(listofMatrices):\n",
    "    if len(listofMatrices) == 1:\n",
    "        return listofMatrices\n",
    "    z = np.kron(listofMatrices[0],listofMatrices[1])\n",
    "    if len(listofMatrices) > 2:\n",
    "        for a in listofMatrices[2:]:\n",
    "            z = np.kron(z,a)\n",
    "        matrix = z\n",
    "    else:\n",
    "        matrix = np.kron(listofMatrices[0],listofMatrices[1])\n",
    "    return matrix\n",
    "\n",
    "def HadamardArray(i, k):\n",
    "    matriceList = []\n",
    "    I = np.array([[1,0],[0,1]])\n",
    "    H = (1/np.sqrt(2))*np.array([[1,1],[1,-1]])\n",
    "    for l in range(k):\n",
    "        if i == l:\n",
    "            matriceList.append(H)\n",
    "        else:\n",
    "            matriceList.append(I)\n",
    "    return tensorMe(matriceList)\n",
    "\n",
    "def PhaseArray(i,k,theta):\n",
    "    matriceList = []\n",
    "    I = np.array([[1,0],[0,1]])\n",
    "    H = np.array([[1,0],[0,np.exp(1j*theta)]])\n",
    "    for l in range(k):\n",
    "        if i == l:\n",
    "            matriceList.append(H)\n",
    "        else:\n",
    "            matriceList.append(I)\n",
    "    return tensorMe(matriceList)\n",
    "\n",
    "def SWAPmatrix(Wire1,Wire2,k):\n",
    "    matriceList = []\n",
    "    I = np.array([[1,0],[0,1]])\n",
    "#     H = SWAPgate(Wire1,Wire2,k)\n",
    "    H = [[1,0,0,0],[0,0,1,0],[0,1,0,0],[0,0,0,1]]\n",
    "    for l in range(k):\n",
    "        if Wire1 == l:\n",
    "            matriceList.append(H)\n",
    "        elif Wire1 != l and Wire2 != l:\n",
    "            matriceList.append(I)\n",
    "    return tensorMe(matriceList)\n",
    "\n",
    "def SWAPgate(wire1,wire2,k):\n",
    "    Cnot = np.array(longCNOT(wire1,wire2,2))\n",
    "    Cnot1 = np.array(longCNOT(wire2,wire1,2))\n",
    "    return Cnot @ (Cnot1) @ Cnot\n",
    "\n",
    "def CNOTArray(controlWire,otherWire,k):\n",
    "    matriceList = []\n",
    "    I = np.array([[1,0],[0,1]])\n",
    "    if controlWire < otherWire:\n",
    "        H = np.array([[1,0,0,0],[0,1,0,0],[0,0,0,1],[0,0,1,0]])\n",
    "    else:\n",
    "        H = np.array([[1,0,0,0],[0,0,0,1],[0,0,1,0],[0,1,0,0]])\n",
    "    for l in range(k):\n",
    "        if controlWire == l:\n",
    "            matriceList.append(H)\n",
    "        elif controlWire != l and otherWire != l:\n",
    "            matriceList.append(I)\n",
    "    return tensorMe(matriceList)\n",
    "\n",
    "def RzGate(i,k,theta):\n",
    "    P_ = PhaseArray(i,k,theta)\n",
    "    P_pi = PhaseArray(i,k,np.pi)\n",
    "    P = PhaseArray(i,k,-theta/2)\n",
    "    X = NOTgate(i,k)\n",
    "    return X@P@X@P@P_\n",
    "\n",
    "def NOTgate(i,k):\n",
    "    theta = np.pi\n",
    "    H = np.array(HadamardArray(i,k))\n",
    "    P = np.array(PhaseArray(i,k,np.pi))\n",
    "    return H@P@H\n",
    "\n",
    "def ControlRzGate(control,other,k,theta):\n",
    "    P_ = PhaseArray(other,k,theta)\n",
    "    P = PhaseArray(other,k,-theta/2)\n",
    "    Cnot = longCNOT(control,other,k)\n",
    "    return Cnot@P@Cnot@P@P_\n",
    "\n",
    "def Cphase(control,other,k,theta):\n",
    "    P_ = PhaseArray(control,k,theta)\n",
    "    P = PhaseArray(control,k,-theta/2)\n",
    "    Crz = ControlRzGate(control,other,k,theta)\n",
    "    return  Crz @ P_ @ P\n",
    "\n",
    "def longCNOT(control,other,k):\n",
    "    size = 2**k\n",
    "    Imatrix = np.zeros((size,size))\n",
    "    for i in range(len(Imatrix)):\n",
    "        for j in range(len(Imatrix)):\n",
    "            Imatrix[i][i] = 1\n",
    "    h = []\n",
    "    if other < control:\n",
    "        h.append(HadamardArray(control,k)@HadamardArray(other,k))\n",
    "        h.append(longCNOT(other,control,k))\n",
    "        h.append(HadamardArray(control,k)@ HadamardArray(other,k))\n",
    "        l = Imatrix\n",
    "        for i in range(len(h)):\n",
    "            l = l @ h[i]\n",
    "        return l\n",
    "\n",
    "    if control == other:\n",
    "        return \"Try again!\"\n",
    "    if other - control == 1:\n",
    "        return CNOTArray(control,other,k)\n",
    "    matrixL=[]\n",
    "    otherMatrixL = []\n",
    "    for i in range((other-control)-1):\n",
    "        matrixL.append(((other-i,other-i-1),SWAPmatrix(other-i,other-i-1,k)))\n",
    "    for i in range(len(matrixL)):\n",
    "        otherMatrixL.append(matrixL[i])\n",
    "    matrixL.append(('CNOT',CNOTArray(control,control+1,k)))\n",
    "    for i in reversed(otherMatrixL):\n",
    "        matrixL.append(i)\n",
    "    size = 2**k\n",
    "    Imatrix = np.zeros((size,size))\n",
    "    for i in range(len(Imatrix)):\n",
    "        for j in range(len(Imatrix)):\n",
    "            Imatrix[i][i] = 1\n",
    "    for i in range(len(matrixL)):\n",
    "        Imatrix  = Imatrix @ matrixL[i][1]\n",
    "    return Imatrix"
   ]
  },
  {
   "cell_type": "code",
   "execution_count": 34,
   "metadata": {},
   "outputs": [
    {
     "data": {
      "text/plain": [
       "0.39269908169872414"
      ]
     },
     "execution_count": 34,
     "metadata": {},
     "output_type": "execute_result"
    }
   ],
   "source": [
    "np.pi/8"
   ]
  },
  {
   "cell_type": "code",
   "execution_count": 35,
   "metadata": {},
   "outputs": [
    {
     "name": "stdout",
     "output_type": "stream",
     "text": [
      "5\n",
      "H  4\n",
      "CPHASE  3 4 1.5707963267948966\n",
      "H  3\n",
      "CPHASE  2 4 0.7853981633974483\n",
      "CPHASE  2 3 1.5707963267948966\n",
      "H  2\n",
      "CPHASE  1 4 0.39269908169872414\n",
      "CPHASE  1 3 0.7853981633974483\n",
      "CPHASE  1 2 1.5707963267948966\n",
      "H  1\n",
      "CPHASE  0 4 0.19634954084936207\n",
      "CPHASE  0 3 0.39269908169872414\n",
      "CPHASE  0 2 0.7853981633974483\n",
      "CPHASE  0 1 1.5707963267948966\n",
      "H  0\n"
     ]
    }
   ],
   "source": [
    "N = 5\n",
    "print(N)\n",
    "i = 0\n",
    "k = N-1\n",
    "while N > i:\n",
    "    print('H ',N - i - 1)\n",
    "    if (N - i - 1 == 0):\n",
    "        break\n",
    "    j = 0\n",
    "    while j <= i:\n",
    "        print('CPHASE ', k -1, N - j -1, np.pi/2**(i-j+1))\n",
    "        j += 1\n",
    "    k -= 1\n",
    "    i += 1"
   ]
  },
  {
   "cell_type": "code",
   "execution_count": 36,
   "metadata": {},
   "outputs": [],
   "source": [
    "def QFT_gen_circuit(N):\n",
    "    with open(f'QFT_{N}.txt','w') as file:\n",
    "        file.write(f'{N}')\n",
    "        file.write('\\n')\n",
    "        i = 0\n",
    "        k = N - 1\n",
    "        while N > i:\n",
    "            file.write('H ')\n",
    "            file.write(f'{N - i - 1}')\n",
    "            file.write('\\n')\n",
    "            if (N - i - 1 == 0):\n",
    "                break\n",
    "            j = 0\n",
    "            while j <= i:\n",
    "                file.write('CPHASE ')\n",
    "                file.write(f'{k - 1} ')\n",
    "                file.write(f'{N - j - 1} ')\n",
    "                file.write(f'{np.pi/2**(i - j + 1)}')\n",
    "                j += 1\n",
    "                file.write('\\n')\n",
    "            k -= 1\n",
    "            i += 1\n",
    "    return 0;"
   ]
  },
  {
   "cell_type": "code",
   "execution_count": 13,
   "metadata": {},
   "outputs": [
    {
     "data": {
      "text/plain": [
       "0"
      ]
     },
     "execution_count": 13,
     "metadata": {},
     "output_type": "execute_result"
    }
   ],
   "source": [
    "QFT_gen_circuit(8)"
   ]
  },
  {
   "cell_type": "code",
   "execution_count": 12,
   "metadata": {},
   "outputs": [
    {
     "data": {
      "text/plain": [
       "0"
      ]
     },
     "execution_count": 12,
     "metadata": {},
     "output_type": "execute_result"
    }
   ],
   "source": [
    "QFT_gen_circuit(5)"
   ]
  },
  {
   "cell_type": "code",
   "execution_count": 37,
   "metadata": {},
   "outputs": [],
   "source": [
    "def random_gen(N):\n",
    "    wireList = []\n",
    "    for i in range(N):\n",
    "        wireList.append(i)\n",
    "    with open('randCircuit.txt', 'w') as file:\n",
    "        file.write(f'{N}')\n",
    "        file.write('\\n')\n",
    "        for i in range(50):\n",
    "            rand_gate = random.randint(1,3)\n",
    "            rand_position = random.randint(0,N-1)\n",
    "            rand_first_cnot = random.randint(0,N//2)\n",
    "            rand_last_cnot = random.randint(N//2,N-1)\n",
    "            if rand_first_cnot == rand_last_cnot:\n",
    "                rand_first_cnot = 0\n",
    "            rand_theta = random.uniform(0,6)\n",
    "            if N > 1:\n",
    "                if rand_gate == 1:\n",
    "                    file.write('H')\n",
    "                    file.write(f' {rand_position}')\n",
    "                    if i < 49:\n",
    "                        file.write('\\n')\n",
    "                elif rand_gate == 2:\n",
    "                    file.write('CNOT')\n",
    "                    file.write(f' {rand_first_cnot}')\n",
    "                    file.write(f' {rand_last_cnot}')\n",
    "                    if i < 49:\n",
    "                        file.write('\\n')\n",
    "                elif rand_gate == 3:\n",
    "                    file.write('P')\n",
    "                    file.write(f' {rand_position}')\n",
    "                    file.write(f' {rand_theta}')\n",
    "                    if i < 49:\n",
    "                        file.write('\\n')\n",
    "            else:\n",
    "                if rand_gate == 1:\n",
    "                    file.write('H')\n",
    "                    file.write(f' {rand_position}')\n",
    "                    if i < 49:\n",
    "                        file.write('\\n')\n",
    "                elif rand_gate == 3:\n",
    "                    file.write('P')\n",
    "                    file.write(f' {rand_position}')\n",
    "                    file.write(f' {rand_theta}')\n",
    "                    if i < 49:\n",
    "                        file.write('\\n')\n",
    "    return 0"
   ]
  },
  {
   "cell_type": "code",
   "execution_count": 22,
   "metadata": {},
   "outputs": [
    {
     "name": "stdout",
     "output_type": "stream",
     "text": [
      "0\n"
     ]
    }
   ],
   "source": [
    "print(random_gen(5))"
   ]
  },
  {
   "cell_type": "code",
   "execution_count": 1426,
   "metadata": {},
   "outputs": [
    {
     "data": {
      "text/plain": [
       "Text(0.5, 1.0, 'Time vs Qubits')"
      ]
     },
     "execution_count": 1426,
     "metadata": {},
     "output_type": "execute_result"
    },
    {
     "data": {
      "image/png": "[encoded data removed]",
      "text/plain": [
       "<Figure size 432x288 with 1 Axes>"
      ]
     },
     "metadata": {
      "needs_background": "light"
     },
     "output_type": "display_data"
    }
   ],
   "source": [
    "plt.plot(range(5,13),simA,'-o',label='Simulator Ia')\n",
    "plt.plot(range(5,13),simB,'-o',label=\"Simulator Ib\")\n",
    "plt.plot(range(5,15),simC[5:15],'-o',label=\"Simulator Ic\")\n",
    "plt.legend()\n",
    "plt.xlabel(\"Qubits\")\n",
    "plt.ylabel(\"Time (seconds)\")\n",
    "plt.title(\"Time vs Qubits\")"
   ]
  },
  {
   "cell_type": "code",
   "execution_count": 1434,
   "metadata": {},
   "outputs": [],
   "source": [
    "alist,blist,clist = [],[],[]\n",
    "for i in range(4):\n",
    "    alist.append(62)\n",
    "    blist.append(62)\n",
    "for i in range(10):\n",
    "    clist.append(62)\n",
    "alist.append(63)\n",
    "alist.append(67)\n",
    "alist.append(85)\n",
    "alist.append(92)\n",
    "alist.append(93)\n",
    "blist.append(62)\n",
    "blist.append(63)\n",
    "blist.append(82)\n",
    "blist.append(86)\n",
    "blist.append(90)"
   ]
  },
  {
   "cell_type": "code",
   "execution_count": 1437,
   "metadata": {},
   "outputs": [
    {
     "data": {
      "text/plain": [
       "Text(0.5, 1.0, 'RAM vs Qubits')"
      ]
     },
     "execution_count": 1437,
     "metadata": {},
     "output_type": "execute_result"
    },
    {
     "data": {
      "image/png": "[encoded data removed]",
      "text/plain": [
       "<Figure size 432x288 with 1 Axes>"
      ]
     },
     "metadata": {
      "needs_background": "light"
     },
     "output_type": "display_data"
    }
   ],
   "source": [
    "plt.plot(range(5,14),alist,'-o',label='Simulator Ia')\n",
    "plt.plot(range(5,14),blist,'-o',label=\"Simulator Ib\")\n",
    "plt.plot(range(5,15),clist,'-o',label=\"Simulator Ic\")\n",
    "plt.legend()\n",
    "plt.xlabel(\"Qubits\")\n",
    "plt.ylabel(\"RAM\")\n",
    "plt.title(\"RAM vs Qubits\")"
   ]
  },
  {
   "cell_type": "code",
   "execution_count": null,
   "metadata": {},
   "outputs": [],
   "source": [
    "plt.plot(range(5,13),simA,'-o',label='Simulator Ia')\n",
    "plt.plot(range(5,13),simB,'-o',label=\"Simulator Ib\")\n",
    "plt.plot(range(5,15),simC[5:15],'-o',label=\"Simulator Ic\")\n",
    "plt.legend()\n",
    "plt.xlabel(\"Qubits\")\n",
    "plt.ylabel(\"Time (seconds)\")\n",
    "plt.title(\"Time vs Qubits\")"
   ]
  },
  {
   "cell_type": "code",
   "execution_count": null,
   "metadata": {},
   "outputs": [],
   "source": [
    "import time\n",
    "simA = []\n",
    "simB = []\n",
    "simC = []\n",
    "for i in range(5,13):\n",
    "    print(i)\n",
    "    random_gen(i)\n",
    "    string = ''\n",
    "    for i in range(i):\n",
    "        string += '0'\n",
    "    start_time_Ia = time.time()\n",
    "    QuantumSimulatorIa([(1,string)],'randCircuit.txt')\n",
    "    simA.append(time.time() - start_time_Ia)\n",
    "    print(\"A \",time.time() - start_time_Ia)\n",
    "\n",
    "    start_time_Ib = time.time()\n",
    "    QuantumSimulatorIb([(1,string)],'randCircuit.txt')\n",
    "    simB.append(time.time() - start_time_Ib)\n",
    "    print(\"B \",time.time() - start_time_Ib)\n",
    "\n",
    "    start_time_Ic = time.time()\n",
    "    QuantumSimulatorIc([(1,string)],'randCircuit.txt')\n",
    "    simC.append(time.time() - start_time_Ic)\n",
    "    print(\"C \",time.time() - start_time_Ic)\n",
    "\n",
    "random_gen(15)\n",
    "string = ''\n",
    "for i in range(15):\n",
    "    string += '0'\n",
    "start_time_Ic = time.time()\n",
    "QuantumSimulatorIc([(1,string)],'randCircuit.txt')\n",
    "simC.append(time.time() - start_time_Ic)"
   ]
  },
  {
   "cell_type": "markdown",
   "metadata": {},
   "source": [
    "## Quanum Simulator Ia"
   ]
  },
  {
   "cell_type": "code",
   "execution_count": 38,
   "metadata": {},
   "outputs": [],
   "source": [
    "def QuantumSimulatorIa(State,fileName):\n",
    "    numberOfWires,myInput = ReadInput(fileName)\n",
    "    matrixList = []\n",
    "    size = 2**int(numberOfWires)\n",
    "    newMatrix = np.zeros((size,size),dtype = 'complex')\n",
    "    \n",
    "    for i in range(len(newMatrix)):\n",
    "        for j in range(len(newMatrix[i])):\n",
    "            newMatrix[i][i] = 1\n",
    "#     print(type(newMatrix[0][0]))\n",
    "    for i in range(len(myInput)):\n",
    "        if myInput[i][0] == 'H':\n",
    "            matrixList.append(HadamardArray(int(myInput[i][1]),numberOfWires))\n",
    "        if myInput[i][0] == 'CNOT':\n",
    "            matrixList.append(longCNOT(int(myInput[i][1]),int(myInput[i][2]),numberOfWires))\n",
    "        if myInput[i][0] == 'P':\n",
    "            matrixList.append(PhaseArray(int(myInput[i][1]),numberOfWires,float(myInput[i][2])))\n",
    "        if myInput[i][0] == 'INITSTATE':\n",
    "            State = ReadInputState(myInput[i][2]) \n",
    "        if myInput[i][0] == 'CPHASE':\n",
    "            matrixList.append(Cphase(int(myInput[i][1]),int(myInput[i][2]),numberOfWires,float(myInput[i][3])))\n",
    "#         if myInput[i][1] == 'BASIS':\n",
    "#             State  = (1,myInput[i][1])\n",
    "            \n",
    "    for i in reversed(matrixList):\n",
    "        newMatrix = newMatrix @ i\n",
    "        \n",
    "    if type(State[0]) == tuple:\n",
    "        VectorInput = StateToVec(State)\n",
    "    elif type(State[0]) == complex:\n",
    "        VectorInput = State\n",
    "        \n",
    "    VectorOutput = newMatrix@VectorInput\n",
    "    for i in range(len(myInput)):\n",
    "        if myInput[i][0] == 'MEASURE':\n",
    "            out = CircuitMeasurement(VectorOutput)\n",
    "        else:\n",
    "            out = VecToState(VectorOutput)\n",
    "    return out"
   ]
  },
  {
   "cell_type": "code",
   "execution_count": 39,
   "metadata": {},
   "outputs": [
    {
     "data": {
      "text/plain": [
       "('11000', 'Circuit Measurement: 11000')"
      ]
     },
     "execution_count": 39,
     "metadata": {},
     "output_type": "execute_result"
    }
   ],
   "source": [
    "QuantumSimulatorIa([(1,'00000')],'measure.circuit')"
   ]
  },
  {
   "cell_type": "code",
   "execution_count": 47,
   "metadata": {},
   "outputs": [
    {
     "data": {
      "image/png": "[encoded data removed]",
      "text/plain": [
       "<Figure size 432x288 with 1 Axes>"
      ]
     },
     "metadata": {
      "needs_background": "light"
     },
     "output_type": "display_data"
    }
   ],
   "source": [
    "binary_list = []\n",
    "for i in range(1000):\n",
    "    binary_list.append(binaryToDecimal(int(QuantumSimulatorIa([(1,'00000')],'measure.circuit')[0])))\n",
    "plt.hist(binary_list);"
   ]
  },
  {
   "cell_type": "code",
   "execution_count": 48,
   "metadata": {},
   "outputs": [
    {
     "data": {
      "text/plain": [
       "(array([ 38.,   0.,   0.,  16.,   0.,   0.,   8.,   0.,   0.,   0.,   0.,\n",
       "          0.,   0.,   6.,   0.,   0.,   2.,   0.,   0.,   0.,   3.,   0.,\n",
       "          0.,   2.,   0.,   0.,  38.,   0.,   0.,   0.,  14.,   0.,   0.,\n",
       "          3.,   0.,   0.,   2.,   0.,   0.,   0.,  78.,   0.,   0.,  52.,\n",
       "          0.,   0.,  21.,   0.,   0.,   0.,   8.,   0.,   0.,   7.,   0.,\n",
       "          0.,   1.,   0.,   0.,   0.,   3.,   0.,   0.,   0.,   0.,   0.,\n",
       "        162.,   0.,   0.,   0.,  73.,   0.,   0.,  29.,   0.,   0.,  16.,\n",
       "          0.,   0.,   0., 185.,   0.,   0., 116.,   0.,   0.,  50.,   0.,\n",
       "          0.,   0.,  17.,   0.,   0.,  33.,   0.,   0.,  16.,   0.,   0.,\n",
       "          1.]),\n",
       " array([ 0. ,  0.3,  0.6,  0.9,  1.2,  1.5,  1.8,  2.1,  2.4,  2.7,  3. ,\n",
       "         3.3,  3.6,  3.9,  4.2,  4.5,  4.8,  5.1,  5.4,  5.7,  6. ,  6.3,\n",
       "         6.6,  6.9,  7.2,  7.5,  7.8,  8.1,  8.4,  8.7,  9. ,  9.3,  9.6,\n",
       "         9.9, 10.2, 10.5, 10.8, 11.1, 11.4, 11.7, 12. , 12.3, 12.6, 12.9,\n",
       "        13.2, 13.5, 13.8, 14.1, 14.4, 14.7, 15. , 15.3, 15.6, 15.9, 16.2,\n",
       "        16.5, 16.8, 17.1, 17.4, 17.7, 18. , 18.3, 18.6, 18.9, 19.2, 19.5,\n",
       "        19.8, 20.1, 20.4, 20.7, 21. , 21.3, 21.6, 21.9, 22.2, 22.5, 22.8,\n",
       "        23.1, 23.4, 23.7, 24. , 24.3, 24.6, 24.9, 25.2, 25.5, 25.8, 26.1,\n",
       "        26.4, 26.7, 27. , 27.3, 27.6, 27.9, 28.2, 28.5, 28.8, 29.1, 29.4,\n",
       "        29.7, 30. ]),\n",
       " <a list of 100 Patch objects>)"
      ]
     },
     "execution_count": 48,
     "metadata": {},
     "output_type": "execute_result"
    },
    {
     "data": {
      "image/png": "[encoded data removed]",
      "text/plain": [
       "<Figure size 432x288 with 1 Axes>"
      ]
     },
     "metadata": {
      "needs_background": "light"
     },
     "output_type": "display_data"
    }
   ],
   "source": [
    "plt.hist(binary_list,bins=100)"
   ]
  },
  {
   "cell_type": "code",
   "execution_count": 49,
   "metadata": {},
   "outputs": [],
   "source": [
    "# QuantumSimulatorIb([(1,'00000')],'rand (1).circuit')"
   ]
  },
  {
   "cell_type": "code",
   "execution_count": 75,
   "metadata": {},
   "outputs": [],
   "source": [
    "def qft(fileName,numberOfWires):\n",
    "    matrixList = []\n",
    "    numberOfWires,myInput = ReadInput(fileName)\n",
    "    size = 2**int(numberOfWires)\n",
    "    newMatrix = np.zeros((size,size),dtype = 'complex')\n",
    "    \n",
    "    for i in range(len(newMatrix)):\n",
    "        for j in range(len(newMatrix[i])):\n",
    "            newMatrix[i][i] = 1   \n",
    "    myInput = myInput[::-1]\n",
    "    for i in range(len(myInput)):\n",
    "        if myInput[i][0] == 'H':\n",
    "            matrixList.append(HadamardArray(int(myInput[i][1]),numberOfWires))\n",
    "        if myInput[i][0] == 'CPHASE':\n",
    "            matrixList.append(Cphase(int(myInput[i][1]),int(myInput[i][2]),numberOfWires,-float(myInput[i][3])))\n",
    "    \n",
    "    for i in reversed(matrixList):\n",
    "        newMatrix = (newMatrix @ i)\n",
    "    return newMatrix"
   ]
  },
  {
   "cell_type": "code",
   "execution_count": 52,
   "metadata": {},
   "outputs": [],
   "source": [
    "# SWAPmatrix(0,2,3)"
   ]
  },
  {
   "cell_type": "code",
   "execution_count": 53,
   "metadata": {},
   "outputs": [],
   "source": [
    "# qft('QFT_test.txt',3)"
   ]
  },
  {
   "cell_type": "markdown",
   "metadata": {},
   "source": [
    "## Quantum Simulator Ib"
   ]
  },
  {
   "cell_type": "code",
   "execution_count": 216,
   "metadata": {},
   "outputs": [],
   "source": [
    "def QuantumSimulatorIb(State,fileName):\n",
    "    numberOfWires,myInput = ReadInput(fileName)\n",
    "    outList = []\n",
    "    size = 2**int(numberOfWires)\n",
    "    matrixList = []\n",
    "    newMatrix = np.zeros((size,size),dtype = 'complex')\n",
    "    \n",
    "    for i in range(len(newMatrix)):\n",
    "        for j in range(len(newMatrix[i])):\n",
    "            newMatrix[i][i] = 1      \n",
    "            \n",
    "    for i in range(len(myInput)):\n",
    "        if myInput[i][0] == 'H':\n",
    "            matrixList.append(HadamardArray(int(myInput[i][1]),numberOfWires))\n",
    "        if myInput[i][0] == 'CNOT':\n",
    "            matrixList.append(longCNOT(int(myInput[i][1]),int(myInput[i][2]),numberOfWires))\n",
    "        if myInput[i][0] == 'P':\n",
    "            matrixList.append(PhaseArray(int(myInput[i][1]),numberOfWires,float(myInput[i][2])))\n",
    "        if myInput[i][0] == 'CPHASE':\n",
    "            matrixList.append(Cphase(int(myInput[i][1]),int(myInput[i][2]),numberOfWires,float(myInput[i][3])))\n",
    "        if myInput[i][0] == 'cPHASE':\n",
    "            matrixList.append(Cphase(int(myInput[i][1]),int(myInput[i][2]),numberOfWires,float(myInput[i][3])))\n",
    "        if myInput[i][0] == 'INITSTATE':\n",
    "            State = ReadInputState(myInput[i][2])\n",
    "        if myInput[i][0] == 'CRZ':\n",
    "            matrixList.append(ControlRzGate(int(myInput[i][1]),int(myInput[i][2]),numberOfWires,float(myInput[i][3])))\n",
    "        if myInput[i][0] == 'SWAP':\n",
    "            matrixList.append(SWAPmatrix(int(myInput[i][1]),int(myInput[i][2]),numberOfWires))\n",
    "        if myInput[i][0] == 'IQFT':\n",
    "            matrixList.append(qft(f'QFT_{numberOfWires}.txt',numberOfWires))\n",
    "    \n",
    "    if type(State[0]) == tuple:\n",
    "        VectorInput = StateToVec(State)\n",
    "    elif type(State[0]) == complex:\n",
    "        VectorInput = State\n",
    "        \n",
    "    if numberOfWires >= 3:\n",
    "#         print('yup')\n",
    "        matrixList[::-1]\n",
    "        newMatrix = matrixList[0] @ VectorInput\n",
    "        del matrixList[0]\n",
    "        for i in range(len(matrixList)):\n",
    "            newMatrix = matrixList[i] @ newMatrix \n",
    "            \n",
    "    elif numberOfWires < 3:\n",
    "        for i in reversed(matrixList):\n",
    "            newMatrix = newMatrix @ i\n",
    "    \n",
    "    if len(newMatrix) == 1:\n",
    "        newMatrix = newMatrix[0]\n",
    "        \n",
    "    for i in range(len(myInput)):\n",
    "        if myInput[i][0] == 'REVERSE':\n",
    "            newMatrix = newMatrix[::-1]\n",
    "        if myInput[i][0] == 'MEASURE':\n",
    "            out = CircuitMeasurement(newMatrix)\n",
    "        else:\n",
    "            out = VecToState(newMatrix)\n",
    "    outList.append(out)\n",
    "    return outList"
   ]
  },
  {
   "cell_type": "code",
   "execution_count": 202,
   "metadata": {},
   "outputs": [],
   "source": [
    "k = np.linspace(0,2*np.pi,100)"
   ]
  },
  {
   "cell_type": "code",
   "execution_count": 204,
   "metadata": {},
   "outputs": [
    {
     "data": {
      "text/plain": [
       "[(0.0, '11'), (0.9999999999999998, '01')]"
      ]
     },
     "execution_count": 204,
     "metadata": {},
     "output_type": "execute_result"
    }
   ],
   "source": [
    "QuantumSimulatorII([(1,'01')],'u.txt')"
   ]
  },
  {
   "cell_type": "code",
   "execution_count": 208,
   "metadata": {},
   "outputs": [
    {
     "name": "stdout",
     "output_type": "stream",
     "text": [
      "[[(0.0, '11'), (0.9999999999999998, '01')], [(0.0, '11'), (0.9999999999999998, '01')], [(0.0, '11'), (0.9999999999999998, '01')], [(0.0, '11'), (0.9999999999999998, '01')], [(0.0, '11'), (0.9999999999999998, '01')], [(0.0, '11'), (0.9999999999999998, '01')], [(0.0, '11'), (0.9999999999999998, '01')], [(0.0, '11'), (0.9999999999999998, '01')], [(0.0, '11'), (0.9999999999999998, '01')], [(0.0, '11'), (0.9999999999999998, '01')], [(0.0, '11'), (0.9999999999999998, '01')], [(0.0, '11'), (0.9999999999999998, '01')], [(0.0, '11'), (0.9999999999999998, '01')], [(0.0, '11'), (0.9999999999999998, '01')], [(0.0, '11'), (0.9999999999999998, '01')], [(0.0, '11'), (0.9999999999999998, '01')], [(0.0, '11'), (0.9999999999999998, '01')], [(0.0, '11'), (0.9999999999999998, '01')], [(0.0, '11'), (0.9999999999999998, '01')], [(0.0, '11'), (0.9999999999999998, '01')], [(0.0, '11'), (0.9999999999999998, '01')], [(0.0, '11'), (0.9999999999999998, '01')], [(0.0, '11'), (0.9999999999999998, '01')], [(0.0, '11'), (0.9999999999999998, '01')], [(0.0, '11'), (0.9999999999999998, '01')], [(0.0, '11'), (0.9999999999999998, '01')], [(0.0, '11'), (0.9999999999999998, '01')], [(0.0, '11'), (0.9999999999999998, '01')], [(0.0, '11'), (0.9999999999999998, '01')], [(0.0, '11'), (0.9999999999999998, '01')], [(0.0, '11'), (0.9999999999999998, '01')], [(0.0, '11'), (0.9999999999999998, '01')], [(0.0, '11'), (0.9999999999999998, '01')], [(0.0, '11'), (0.9999999999999998, '01')], [(0.0, '11'), (0.9999999999999998, '01')], [(0.0, '11'), (0.9999999999999998, '01')], [(0.0, '11'), (0.9999999999999998, '01')], [(0.0, '11'), (0.9999999999999998, '01')], [(0.0, '11'), (0.9999999999999998, '01')], [(0.0, '11'), (0.9999999999999998, '01')], [(0.0, '11'), (0.9999999999999998, '01')], [(0.0, '11'), (0.9999999999999998, '01')], [(0.0, '11'), (0.9999999999999998, '01')], [(0.0, '11'), (0.9999999999999998, '01')], [(0.0, '11'), (0.9999999999999998, '01')], [(0.0, '11'), (0.9999999999999998, '01')], [(0.0, '11'), (0.9999999999999998, '01')], [(0.0, '11'), (0.9999999999999998, '01')], [(0.0, '11'), (0.9999999999999998, '01')], [(0.0, '11'), (0.9999999999999998, '01')], [(0.0, '11'), (0.9999999999999998, '01')], [(0.0, '11'), (0.9999999999999998, '01')], [(0.0, '11'), (0.9999999999999998, '01')], [(0.0, '11'), (0.9999999999999998, '01')], [(0.0, '11'), (0.9999999999999998, '01')], [(0.0, '11'), (0.9999999999999998, '01')], [(0.0, '11'), (0.9999999999999998, '01')], [(0.0, '11'), (0.9999999999999998, '01')], [(0.0, '11'), (0.9999999999999998, '01')], [(0.0, '11'), (0.9999999999999998, '01')], [(0.0, '11'), (0.9999999999999998, '01')], [(0.0, '11'), (0.9999999999999998, '01')], [(0.0, '11'), (0.9999999999999998, '01')], [(0.0, '11'), (0.9999999999999998, '01')], [(0.0, '11'), (0.9999999999999998, '01')], [(0.0, '11'), (0.9999999999999998, '01')], [(0.0, '11'), (0.9999999999999998, '01')], [(0.0, '11'), (0.9999999999999998, '01')], [(0.0, '11'), (0.9999999999999998, '01')], [(0.0, '11'), (0.9999999999999998, '01')], [(0.0, '11'), (0.9999999999999998, '01')], [(0.0, '11'), (0.9999999999999998, '01')], [(0.0, '11'), (0.9999999999999998, '01')], [(0.0, '11'), (0.9999999999999998, '01')], [(0.0, '11'), (0.9999999999999998, '01')], [(0.0, '11'), (0.9999999999999998, '01')], [(0.0, '11'), (0.9999999999999998, '01')], [(0.0, '11'), (0.9999999999999998, '01')], [(0.0, '11'), (0.9999999999999998, '01')], [(0.0, '11'), (0.9999999999999998, '01')], [(0.0, '11'), (0.9999999999999998, '01')], [(0.0, '11'), (0.9999999999999998, '01')], [(0.0, '11'), (0.9999999999999998, '01')], [(0.0, '11'), (0.9999999999999998, '01')], [(0.0, '11'), (0.9999999999999998, '01')], [(0.0, '11'), (0.9999999999999998, '01')], [(0.0, '11'), (0.9999999999999998, '01')], [(0.0, '11'), (0.9999999999999998, '01')], [(0.0, '11'), (0.9999999999999998, '01')], [(0.0, '11'), (0.9999999999999998, '01')], [(0.0, '11'), (0.9999999999999998, '01')], [(0.0, '11'), (0.9999999999999998, '01')], [(0.0, '11'), (0.9999999999999998, '01')], [(0.0, '11'), (0.9999999999999998, '01')], [(0.0, '11'), (0.9999999999999998, '01')], [(0.0, '11'), (0.9999999999999998, '01')], [(0.0, '11'), (0.9999999999999998, '01')], [(0.0, '11'), (0.9999999999999998, '01')], [(0.0, '11'), (0.9999999999999998, '01')]]\n"
     ]
    }
   ],
   "source": [
    "result=[]\n",
    "with open('u.txt', 'r') as file :\n",
    "    filedata = file.read()\n",
    "    filedata = filedata.replace('6.283185307179586','0.0')\n",
    "with open('u.txt', 'w') as file:\n",
    "        file.write(filedata)\n",
    "\n",
    "k = np.linspace(0,2*np.pi,100)\n",
    "for i in range(len(k)-1):\n",
    "    with open('u.txt', 'r') as file :\n",
    "        filedata = file.read()\n",
    "    filedata = filedata.replace(str(k[i]),str(k[i+1]))\n",
    "    with open('u.txt', 'w') as file:\n",
    "        file.write(filedata)\n",
    "    result.append(QuantumSimulatorII([(1,'01')],'u.txt'))\n",
    "#     print(QuantumSimulatorIb([(1,'001')],\"u.txt\"))\n",
    "print(result)"
   ]
  },
  {
   "cell_type": "code",
   "execution_count": 207,
   "metadata": {},
   "outputs": [
    {
     "ename": "IndexError",
     "evalue": "invalid index to scalar variable.",
     "output_type": "error",
     "traceback": [
      "\u001b[1;31m---------------------------------------------------------------------------\u001b[0m",
      "\u001b[1;31mIndexError\u001b[0m                                Traceback (most recent call last)",
      "\u001b[1;32m<ipython-input-207-17439baf54fa>\u001b[0m in \u001b[0;36m<module>\u001b[1;34m\u001b[0m\n\u001b[0;32m      3\u001b[0m \u001b[1;32mfor\u001b[0m \u001b[0mi\u001b[0m \u001b[1;32min\u001b[0m \u001b[0mrange\u001b[0m\u001b[1;33m(\u001b[0m\u001b[0mlen\u001b[0m\u001b[1;33m(\u001b[0m\u001b[0mresult\u001b[0m\u001b[1;33m)\u001b[0m\u001b[1;33m)\u001b[0m\u001b[1;33m:\u001b[0m\u001b[1;33m\u001b[0m\u001b[1;33m\u001b[0m\u001b[0m\n\u001b[0;32m      4\u001b[0m     \u001b[1;32mfor\u001b[0m \u001b[0mj\u001b[0m \u001b[1;32min\u001b[0m \u001b[0mrange\u001b[0m\u001b[1;33m(\u001b[0m\u001b[0mlen\u001b[0m\u001b[1;33m(\u001b[0m\u001b[0mresult\u001b[0m\u001b[1;33m[\u001b[0m\u001b[0mi\u001b[0m\u001b[1;33m]\u001b[0m\u001b[1;33m[\u001b[0m\u001b[1;36m0\u001b[0m\u001b[1;33m]\u001b[0m\u001b[1;33m)\u001b[0m\u001b[1;33m)\u001b[0m\u001b[1;33m:\u001b[0m\u001b[1;33m\u001b[0m\u001b[1;33m\u001b[0m\u001b[0m\n\u001b[1;32m----> 5\u001b[1;33m         \u001b[0molist\u001b[0m\u001b[1;33m.\u001b[0m\u001b[0mappend\u001b[0m\u001b[1;33m(\u001b[0m\u001b[1;33m(\u001b[0m\u001b[0mabs\u001b[0m\u001b[1;33m(\u001b[0m\u001b[0mresult\u001b[0m\u001b[1;33m[\u001b[0m\u001b[0mi\u001b[0m\u001b[1;33m]\u001b[0m\u001b[1;33m[\u001b[0m\u001b[1;36m0\u001b[0m\u001b[1;33m]\u001b[0m\u001b[1;33m[\u001b[0m\u001b[0mj\u001b[0m\u001b[1;33m]\u001b[0m\u001b[1;33m[\u001b[0m\u001b[1;36m0\u001b[0m\u001b[1;33m]\u001b[0m\u001b[1;33m)\u001b[0m\u001b[1;33m**\u001b[0m\u001b[1;36m2\u001b[0m\u001b[1;33m,\u001b[0m\u001b[0mphaseEstimation\u001b[0m\u001b[1;33m(\u001b[0m\u001b[1;36m2\u001b[0m\u001b[1;33m,\u001b[0m\u001b[0mresult\u001b[0m\u001b[1;33m[\u001b[0m\u001b[0mi\u001b[0m\u001b[1;33m]\u001b[0m\u001b[1;33m[\u001b[0m\u001b[1;36m0\u001b[0m\u001b[1;33m]\u001b[0m\u001b[1;33m[\u001b[0m\u001b[0mj\u001b[0m\u001b[1;33m]\u001b[0m\u001b[1;33m[\u001b[0m\u001b[1;36m1\u001b[0m\u001b[1;33m]\u001b[0m\u001b[1;33m)\u001b[0m\u001b[1;33m)\u001b[0m\u001b[1;33m)\u001b[0m\u001b[1;33m\u001b[0m\u001b[1;33m\u001b[0m\u001b[0m\n\u001b[0m\u001b[0;32m      6\u001b[0m \u001b[0mnewList\u001b[0m \u001b[1;33m=\u001b[0m \u001b[1;33m[\u001b[0m\u001b[1;33m]\u001b[0m\u001b[1;33m\u001b[0m\u001b[1;33m\u001b[0m\u001b[0m\n\u001b[0;32m      7\u001b[0m \u001b[0molist\u001b[0m \u001b[1;33m=\u001b[0m \u001b[0mnp\u001b[0m\u001b[1;33m.\u001b[0m\u001b[0marray\u001b[0m\u001b[1;33m(\u001b[0m\u001b[0molist\u001b[0m\u001b[1;33m)\u001b[0m\u001b[1;33m\u001b[0m\u001b[1;33m\u001b[0m\u001b[0m\n",
      "\u001b[1;31mIndexError\u001b[0m: invalid index to scalar variable."
     ]
    }
   ],
   "source": [
    "thetaList = np.linspace(0,1,99)\n",
    "olist = []\n",
    "for i in range(len(result)):\n",
    "    for j in range(len(result[i][0])):\n",
    "        olist.append((abs(result[i][0][j][0])**2,phaseEstimation(2,result[i][0][j][1])))\n",
    "newList = []\n",
    "olist = np.array(olist)\n",
    "olist = olist.reshape((99,2,2))\n",
    "for i in range(len(olist)):\n",
    "    res = max(olist[i],key=lambda j:j[0])\n",
    "    newList.append(res[1])\n",
    "plt.plot(thetaList,newList)\n",
    "plt.title('$\\Theta_j$ vs $\\phi$/2$\\pi$')\n",
    "plt.ylabel('$\\Theta_j$')\n",
    "plt.xlabel('$\\phi$/2$\\pi$')"
   ]
  },
  {
   "cell_type": "code",
   "execution_count": 213,
   "metadata": {},
   "outputs": [
    {
     "name": "stdout",
     "output_type": "stream",
     "text": [
      "Measure\n"
     ]
    },
    {
     "ename": "ValueError",
     "evalue": "The truth value of an array with more than one element is ambiguous. Use a.any() or a.all()",
     "output_type": "error",
     "traceback": [
      "\u001b[1;31m---------------------------------------------------------------------------\u001b[0m",
      "\u001b[1;31mValueError\u001b[0m                                Traceback (most recent call last)",
      "\u001b[1;32m<ipython-input-213-30b9ddd89d0d>\u001b[0m in \u001b[0;36m<module>\u001b[1;34m\u001b[0m\n\u001b[0;32m      1\u001b[0m \u001b[0mzlist\u001b[0m \u001b[1;33m=\u001b[0m \u001b[1;33m[\u001b[0m\u001b[1;33m]\u001b[0m\u001b[1;33m\u001b[0m\u001b[1;33m\u001b[0m\u001b[0m\n\u001b[0;32m      2\u001b[0m \u001b[1;32mfor\u001b[0m \u001b[0mi\u001b[0m \u001b[1;32min\u001b[0m \u001b[0mrange\u001b[0m\u001b[1;33m(\u001b[0m\u001b[1;36m100\u001b[0m\u001b[1;33m)\u001b[0m\u001b[1;33m:\u001b[0m\u001b[1;33m\u001b[0m\u001b[1;33m\u001b[0m\u001b[0m\n\u001b[1;32m----> 3\u001b[1;33m     \u001b[0mzlist\u001b[0m\u001b[1;33m.\u001b[0m\u001b[0mappend\u001b[0m\u001b[1;33m(\u001b[0m\u001b[0mQuantumSimulatorIb\u001b[0m\u001b[1;33m(\u001b[0m\u001b[1;33m[\u001b[0m\u001b[1;33m(\u001b[0m\u001b[1;36m1\u001b[0m\u001b[1;33m,\u001b[0m\u001b[1;34m'01'\u001b[0m\u001b[1;33m)\u001b[0m\u001b[1;33m]\u001b[0m\u001b[1;33m,\u001b[0m\u001b[1;34m'u.txt'\u001b[0m\u001b[1;33m)\u001b[0m\u001b[1;33m)\u001b[0m\u001b[1;33m\u001b[0m\u001b[1;33m\u001b[0m\u001b[0m\n\u001b[0m\u001b[0;32m      4\u001b[0m \u001b[0malist\u001b[0m \u001b[1;33m=\u001b[0m \u001b[1;33m[\u001b[0m\u001b[1;33m]\u001b[0m\u001b[1;33m\u001b[0m\u001b[1;33m\u001b[0m\u001b[0m\n\u001b[0;32m      5\u001b[0m \u001b[1;31m# for i in range(len(zlist)):\u001b[0m\u001b[1;33m\u001b[0m\u001b[1;33m\u001b[0m\u001b[1;33m\u001b[0m\u001b[0m\n",
      "\u001b[1;32m<ipython-input-201-651e7e7bd964>\u001b[0m in \u001b[0;36mQuantumSimulatorIb\u001b[1;34m(State, fileName)\u001b[0m\n\u001b[0;32m     54\u001b[0m         \u001b[1;32mif\u001b[0m \u001b[0mmyInput\u001b[0m\u001b[1;33m[\u001b[0m\u001b[0mi\u001b[0m\u001b[1;33m]\u001b[0m\u001b[1;33m[\u001b[0m\u001b[1;36m0\u001b[0m\u001b[1;33m]\u001b[0m \u001b[1;33m==\u001b[0m \u001b[1;34m'MEASURE'\u001b[0m\u001b[1;33m:\u001b[0m\u001b[1;33m\u001b[0m\u001b[1;33m\u001b[0m\u001b[0m\n\u001b[0;32m     55\u001b[0m             \u001b[0mprint\u001b[0m\u001b[1;33m(\u001b[0m\u001b[1;34m'Measure'\u001b[0m\u001b[1;33m)\u001b[0m\u001b[1;33m\u001b[0m\u001b[1;33m\u001b[0m\u001b[0m\n\u001b[1;32m---> 56\u001b[1;33m             \u001b[0mout\u001b[0m \u001b[1;33m=\u001b[0m \u001b[0mCircuitMeasurement\u001b[0m\u001b[1;33m(\u001b[0m\u001b[0mnewMatrix\u001b[0m\u001b[1;33m)\u001b[0m\u001b[1;33m\u001b[0m\u001b[1;33m\u001b[0m\u001b[0m\n\u001b[0m\u001b[0;32m     57\u001b[0m \u001b[1;31m#         else:\u001b[0m\u001b[1;33m\u001b[0m\u001b[1;33m\u001b[0m\u001b[1;33m\u001b[0m\u001b[0m\n\u001b[0;32m     58\u001b[0m \u001b[1;31m#             out = VecToState(newMatrix)\u001b[0m\u001b[1;33m\u001b[0m\u001b[1;33m\u001b[0m\u001b[1;33m\u001b[0m\u001b[0m\n",
      "\u001b[1;32m<ipython-input-118-6a690d4d049e>\u001b[0m in \u001b[0;36mCircuitMeasurement\u001b[1;34m(V)\u001b[0m\n\u001b[0;32m     71\u001b[0m     \u001b[0mz\u001b[0m \u001b[1;33m=\u001b[0m \u001b[1;36m0\u001b[0m\u001b[1;33m\u001b[0m\u001b[1;33m\u001b[0m\u001b[0m\n\u001b[0;32m     72\u001b[0m     \u001b[1;32mfor\u001b[0m \u001b[0mi\u001b[0m \u001b[1;32min\u001b[0m \u001b[0mrange\u001b[0m\u001b[1;33m(\u001b[0m\u001b[0mlen\u001b[0m\u001b[1;33m(\u001b[0m\u001b[0mvectorOut\u001b[0m\u001b[1;33m)\u001b[0m\u001b[1;33m)\u001b[0m\u001b[1;33m:\u001b[0m\u001b[1;33m\u001b[0m\u001b[1;33m\u001b[0m\u001b[0m\n\u001b[1;32m---> 73\u001b[1;33m         \u001b[1;32mif\u001b[0m \u001b[0mvectorOut\u001b[0m\u001b[1;33m[\u001b[0m\u001b[0mi\u001b[0m\u001b[1;33m]\u001b[0m \u001b[1;33m==\u001b[0m \u001b[1;36m0\u001b[0m\u001b[1;33m:\u001b[0m\u001b[1;33m\u001b[0m\u001b[1;33m\u001b[0m\u001b[0m\n\u001b[0m\u001b[0;32m     74\u001b[0m             \u001b[1;32mcontinue\u001b[0m\u001b[1;33m\u001b[0m\u001b[1;33m\u001b[0m\u001b[0m\n\u001b[0;32m     75\u001b[0m         \u001b[0mz\u001b[0m \u001b[1;33m=\u001b[0m \u001b[0mz\u001b[0m \u001b[1;33m+\u001b[0m \u001b[0mvectorOut\u001b[0m\u001b[1;33m[\u001b[0m\u001b[0mi\u001b[0m\u001b[1;33m]\u001b[0m\u001b[1;33m\u001b[0m\u001b[1;33m\u001b[0m\u001b[0m\n",
      "\u001b[1;31mValueError\u001b[0m: The truth value of an array with more than one element is ambiguous. Use a.any() or a.all()"
     ]
    }
   ],
   "source": [
    "zlist = []\n",
    "for i in range(100):\n",
    "    zlist.append(QuantumSimulatorIb([(1,'01')],'u.txt'))\n",
    "alist = []\n",
    "# for i in range(len(zlist)):\n",
    "#     if zlist[i][0][0][0] == '0':\n",
    "#         alist.append(0)\n",
    "#     elif zlist[i][0][0][0] == '1':\n",
    "#         alist.append(0.5)\n",
    "for i in range(len(zlist)):\n",
    "    alist.append(phaseEstimation(2,zlist[i][0][0][0]))\n",
    "plt.hist(alist)\n",
    "plt.plot([0.1432 for i in range(0,10)],range(0,10))\n",
    "plt.title('Histogram')\n",
    "plt.xlabel(\"Phase estimation: $\\Theta_j$\")\n",
    "plt.ylabel('Count')\n",
    "plt.legend(['0.1432'])\n",
    "plt.show()"
   ]
  },
  {
   "cell_type": "code",
   "execution_count": 219,
   "metadata": {},
   "outputs": [
    {
     "data": {
      "text/plain": [
       "[('101', 'Circuit Measurement: 101')]"
      ]
     },
     "execution_count": 219,
     "metadata": {},
     "output_type": "execute_result"
    }
   ],
   "source": [
    "QuantumSimulatorIb([(1,'001')],'c.txt')"
   ]
  },
  {
   "cell_type": "code",
   "execution_count": 226,
   "metadata": {},
   "outputs": [
    {
     "name": "stdout",
     "output_type": "stream",
     "text": [
      "[('011', 'Circuit Measurement: 011')]\n"
     ]
    },
    {
     "data": {
      "text/plain": [
       "'0'"
      ]
     },
     "execution_count": 226,
     "metadata": {},
     "output_type": "execute_result"
    }
   ],
   "source": [
    "result=[]\n",
    "with open('c.txt', 'r') as file :\n",
    "    filedata = file.read()\n",
    "    filedata = filedata.replace('6.283185307179586','0.0')\n",
    "with open('c.txt', 'w') as file:\n",
    "        file.write(filedata)\n",
    "\n",
    "k = np.linspace(0,2*np.pi,100)\n",
    "for i in range(len(k)-1):\n",
    "    with open('c.txt', 'r') as file :\n",
    "        filedata = file.read()\n",
    "    filedata = filedata.replace(str(k[i]),str(k[i+1]))\n",
    "    with open('c.txt', 'w') as file:\n",
    "        file.write(filedata)\n",
    "    result.append(QuantumSimulatorIb([(1,'001')],'c.txt'))\n",
    "#     print(QuantumSimulatorIb([(1,'001')],\"u.txt\"))\n",
    "print(result[0])\n",
    "result[0][0][0][0]"
   ]
  },
  {
   "cell_type": "code",
   "execution_count": 228,
   "metadata": {},
   "outputs": [
    {
     "ename": "TypeError",
     "evalue": "bad operand type for abs(): 'str'",
     "output_type": "error",
     "traceback": [
      "\u001b[1;31m---------------------------------------------------------------------------\u001b[0m",
      "\u001b[1;31mTypeError\u001b[0m                                 Traceback (most recent call last)",
      "\u001b[1;32m<ipython-input-228-e9ba07a9c866>\u001b[0m in \u001b[0;36m<module>\u001b[1;34m\u001b[0m\n\u001b[0;32m      3\u001b[0m \u001b[1;32mfor\u001b[0m \u001b[0mi\u001b[0m \u001b[1;32min\u001b[0m \u001b[0mrange\u001b[0m\u001b[1;33m(\u001b[0m\u001b[0mlen\u001b[0m\u001b[1;33m(\u001b[0m\u001b[0mresult\u001b[0m\u001b[1;33m)\u001b[0m\u001b[1;33m)\u001b[0m\u001b[1;33m:\u001b[0m\u001b[1;33m\u001b[0m\u001b[1;33m\u001b[0m\u001b[0m\n\u001b[0;32m      4\u001b[0m     \u001b[1;32mfor\u001b[0m \u001b[0mj\u001b[0m \u001b[1;32min\u001b[0m \u001b[0mrange\u001b[0m\u001b[1;33m(\u001b[0m\u001b[0mlen\u001b[0m\u001b[1;33m(\u001b[0m\u001b[0mresult\u001b[0m\u001b[1;33m[\u001b[0m\u001b[0mi\u001b[0m\u001b[1;33m]\u001b[0m\u001b[1;33m[\u001b[0m\u001b[1;36m0\u001b[0m\u001b[1;33m]\u001b[0m\u001b[1;33m)\u001b[0m\u001b[1;33m)\u001b[0m\u001b[1;33m:\u001b[0m\u001b[1;33m\u001b[0m\u001b[1;33m\u001b[0m\u001b[0m\n\u001b[1;32m----> 5\u001b[1;33m         \u001b[0molist\u001b[0m\u001b[1;33m.\u001b[0m\u001b[0mappend\u001b[0m\u001b[1;33m(\u001b[0m\u001b[1;33m(\u001b[0m\u001b[0mabs\u001b[0m\u001b[1;33m(\u001b[0m\u001b[0mresult\u001b[0m\u001b[1;33m[\u001b[0m\u001b[0mi\u001b[0m\u001b[1;33m]\u001b[0m\u001b[1;33m[\u001b[0m\u001b[1;36m0\u001b[0m\u001b[1;33m]\u001b[0m\u001b[1;33m[\u001b[0m\u001b[0mj\u001b[0m\u001b[1;33m]\u001b[0m\u001b[1;33m[\u001b[0m\u001b[1;36m0\u001b[0m\u001b[1;33m]\u001b[0m\u001b[1;33m)\u001b[0m\u001b[1;33m**\u001b[0m\u001b[1;36m2\u001b[0m\u001b[1;33m,\u001b[0m\u001b[0mphaseEstimation\u001b[0m\u001b[1;33m(\u001b[0m\u001b[1;36m2\u001b[0m\u001b[1;33m,\u001b[0m\u001b[0mresult\u001b[0m\u001b[1;33m[\u001b[0m\u001b[0mi\u001b[0m\u001b[1;33m]\u001b[0m\u001b[1;33m[\u001b[0m\u001b[1;36m0\u001b[0m\u001b[1;33m]\u001b[0m\u001b[1;33m[\u001b[0m\u001b[0mj\u001b[0m\u001b[1;33m]\u001b[0m\u001b[1;33m[\u001b[0m\u001b[1;36m1\u001b[0m\u001b[1;33m]\u001b[0m\u001b[1;33m)\u001b[0m\u001b[1;33m)\u001b[0m\u001b[1;33m)\u001b[0m\u001b[1;33m\u001b[0m\u001b[1;33m\u001b[0m\u001b[0m\n\u001b[0m\u001b[0;32m      6\u001b[0m \u001b[0mnewList\u001b[0m \u001b[1;33m=\u001b[0m \u001b[1;33m[\u001b[0m\u001b[1;33m]\u001b[0m\u001b[1;33m\u001b[0m\u001b[1;33m\u001b[0m\u001b[0m\n\u001b[0;32m      7\u001b[0m \u001b[0molist\u001b[0m \u001b[1;33m=\u001b[0m \u001b[0mnp\u001b[0m\u001b[1;33m.\u001b[0m\u001b[0marray\u001b[0m\u001b[1;33m(\u001b[0m\u001b[0molist\u001b[0m\u001b[1;33m)\u001b[0m\u001b[1;33m\u001b[0m\u001b[1;33m\u001b[0m\u001b[0m\n",
      "\u001b[1;31mTypeError\u001b[0m: bad operand type for abs(): 'str'"
     ]
    }
   ],
   "source": [
    "thetaList = np.linspace(0,1,99)\n",
    "olist = []\n",
    "for i in range(len(result)):\n",
    "    for j in range(len(result[i][0])):\n",
    "        olist.append((abs(result[i][0][j][0])**2,phaseEstimation(2,result[i][0][j][1])))\n",
    "newList = []\n",
    "olist = np.array(olist)\n",
    "olist = olist.reshape((99,4,2))\n",
    "for i in range(len(olist)):\n",
    "    res = max(olist[i],key=lambda j:j[0])\n",
    "    newList.append(res[1])\n",
    "plt.plot(thetaList,newList)\n",
    "plt.title('$\\Theta_j$ vs $\\phi$/2$\\pi$')\n",
    "plt.ylabel('$\\Theta_j$')\n",
    "plt.xlabel('$\\phi$/2$\\pi$')"
   ]
  },
  {
   "cell_type": "code",
   "execution_count": 229,
   "metadata": {},
   "outputs": [
    {
     "data": {
      "image/png": "[encoded data removed]",
      "text/plain": [
       "<Figure size 432x288 with 1 Axes>"
      ]
     },
     "metadata": {
      "needs_background": "light"
     },
     "output_type": "display_data"
    }
   ],
   "source": [
    "zlist = []\n",
    "for i in range(100):\n",
    "    zlist.append((QuantumSimulatorIb([(1,'001')],\"c.txt\")))\n",
    "alist = []\n",
    "for i in range(len(zlist)):\n",
    "    alist.append(phaseEstimation(2,zlist[i][0][0]))\n",
    "plt.hist(alist)\n",
    "plt.plot([0.1432 for i in range(0,70)],range(0,70))\n",
    "plt.title('Histogram')\n",
    "plt.xlabel(\"Phase estimation: $\\Theta_j$\")\n",
    "plt.ylabel('Count')\n",
    "plt.legend(['0.1432'])\n",
    "plt.show()\n"
   ]
  },
  {
   "cell_type": "code",
   "execution_count": null,
   "metadata": {},
   "outputs": [],
   "source": []
  },
  {
   "cell_type": "code",
   "execution_count": 230,
   "metadata": {},
   "outputs": [],
   "source": [
    "def phase_estimation_circuit_gen(num_wires,num,yes):\n",
    "    top_wires = num_wires - 1\n",
    "    QFT_gen_circuit(top_wires)\n",
    "    with open(f'Phase_estimation_{num_wires}.txt','w') as file:\n",
    "        file.write(f'{num_wires}')\n",
    "        file.write('\\n')\n",
    "        for i in range(top_wires):\n",
    "            file.write('H ')\n",
    "            file.write(f'{i}')\n",
    "            file.write('\\n')\n",
    "        file.write('CPHASE ')\n",
    "        file.write(f'{num_wires-2} ')\n",
    "        file.write(f'{num_wires-1} ')\n",
    "        file.write(f'{num}')\n",
    "        file.write('\\n')\n",
    "        for i in range(2,top_wires+1):\n",
    "            for j in range(2**i//2):\n",
    "                file.write('CPHASE ') \n",
    "                file.write(f'{top_wires-i} ')\n",
    "                file.write(f'{top_wires} ')\n",
    "                file.write(f'{num}')\n",
    "                file.write('\\n')\n",
    "        Inverse = InverseQFT('QFT_'+f'{top_wires}'+'.txt')\n",
    "        file.write('END')\n",
    "        file.write('\\n')\n",
    "        for i in range(len(Inverse)):\n",
    "            for j in range(len(Inverse[i])):\n",
    "                file.write(Inverse[i][j])\n",
    "                file.write(' ')\n",
    "            file.write('\\n')\n",
    "        if yes == 'MEASURE':\n",
    "            file.write(\"MEASURE\")\n",
    "    return 0"
   ]
  },
  {
   "cell_type": "code",
   "execution_count": 231,
   "metadata": {},
   "outputs": [
    {
     "ename": "KeyboardInterrupt",
     "evalue": "",
     "output_type": "error",
     "traceback": [
      "\u001b[1;31m---------------------------------------------------------------------------\u001b[0m",
      "\u001b[1;31mKeyboardInterrupt\u001b[0m                         Traceback (most recent call last)",
      "\u001b[1;32m<ipython-input-231-f4452704bafb>\u001b[0m in \u001b[0;36m<module>\u001b[1;34m\u001b[0m\n\u001b[0;32m      3\u001b[0m \u001b[1;32mfor\u001b[0m \u001b[0mi\u001b[0m \u001b[1;32min\u001b[0m \u001b[0mrange\u001b[0m\u001b[1;33m(\u001b[0m\u001b[0mlen\u001b[0m\u001b[1;33m(\u001b[0m\u001b[0mk\u001b[0m\u001b[1;33m)\u001b[0m\u001b[1;33m-\u001b[0m\u001b[1;36m1\u001b[0m\u001b[1;33m)\u001b[0m\u001b[1;33m:\u001b[0m\u001b[1;33m\u001b[0m\u001b[1;33m\u001b[0m\u001b[0m\n\u001b[0;32m      4\u001b[0m     \u001b[0mphase_estimation_circuit_gen\u001b[0m\u001b[1;33m(\u001b[0m\u001b[1;36m7\u001b[0m\u001b[1;33m,\u001b[0m\u001b[0mk\u001b[0m\u001b[1;33m[\u001b[0m\u001b[0mi\u001b[0m\u001b[1;33m]\u001b[0m\u001b[1;33m,\u001b[0m\u001b[1;34m'MEASURE'\u001b[0m\u001b[1;33m)\u001b[0m\u001b[1;33m\u001b[0m\u001b[1;33m\u001b[0m\u001b[0m\n\u001b[1;32m----> 5\u001b[1;33m     \u001b[0mresult\u001b[0m\u001b[1;33m.\u001b[0m\u001b[0mappend\u001b[0m\u001b[1;33m(\u001b[0m\u001b[0mQuantumSimulatorIb\u001b[0m\u001b[1;33m(\u001b[0m\u001b[1;33m[\u001b[0m\u001b[1;33m(\u001b[0m\u001b[1;36m1\u001b[0m\u001b[1;33m,\u001b[0m\u001b[1;34m'0000001'\u001b[0m\u001b[1;33m)\u001b[0m\u001b[1;33m]\u001b[0m\u001b[1;33m,\u001b[0m\u001b[1;34m'Phase_estimation_7.txt'\u001b[0m\u001b[1;33m)\u001b[0m\u001b[1;33m)\u001b[0m\u001b[1;33m\u001b[0m\u001b[1;33m\u001b[0m\u001b[0m\n\u001b[0m",
      "\u001b[1;32m<ipython-input-216-efa4df61b760>\u001b[0m in \u001b[0;36mQuantumSimulatorIb\u001b[1;34m(State, fileName)\u001b[0m\n\u001b[0;32m     18\u001b[0m             \u001b[0mmatrixList\u001b[0m\u001b[1;33m.\u001b[0m\u001b[0mappend\u001b[0m\u001b[1;33m(\u001b[0m\u001b[0mPhaseArray\u001b[0m\u001b[1;33m(\u001b[0m\u001b[0mint\u001b[0m\u001b[1;33m(\u001b[0m\u001b[0mmyInput\u001b[0m\u001b[1;33m[\u001b[0m\u001b[0mi\u001b[0m\u001b[1;33m]\u001b[0m\u001b[1;33m[\u001b[0m\u001b[1;36m1\u001b[0m\u001b[1;33m]\u001b[0m\u001b[1;33m)\u001b[0m\u001b[1;33m,\u001b[0m\u001b[0mnumberOfWires\u001b[0m\u001b[1;33m,\u001b[0m\u001b[0mfloat\u001b[0m\u001b[1;33m(\u001b[0m\u001b[0mmyInput\u001b[0m\u001b[1;33m[\u001b[0m\u001b[0mi\u001b[0m\u001b[1;33m]\u001b[0m\u001b[1;33m[\u001b[0m\u001b[1;36m2\u001b[0m\u001b[1;33m]\u001b[0m\u001b[1;33m)\u001b[0m\u001b[1;33m)\u001b[0m\u001b[1;33m)\u001b[0m\u001b[1;33m\u001b[0m\u001b[1;33m\u001b[0m\u001b[0m\n\u001b[0;32m     19\u001b[0m         \u001b[1;32mif\u001b[0m \u001b[0mmyInput\u001b[0m\u001b[1;33m[\u001b[0m\u001b[0mi\u001b[0m\u001b[1;33m]\u001b[0m\u001b[1;33m[\u001b[0m\u001b[1;36m0\u001b[0m\u001b[1;33m]\u001b[0m \u001b[1;33m==\u001b[0m \u001b[1;34m'CPHASE'\u001b[0m\u001b[1;33m:\u001b[0m\u001b[1;33m\u001b[0m\u001b[1;33m\u001b[0m\u001b[0m\n\u001b[1;32m---> 20\u001b[1;33m             \u001b[0mmatrixList\u001b[0m\u001b[1;33m.\u001b[0m\u001b[0mappend\u001b[0m\u001b[1;33m(\u001b[0m\u001b[0mCphase\u001b[0m\u001b[1;33m(\u001b[0m\u001b[0mint\u001b[0m\u001b[1;33m(\u001b[0m\u001b[0mmyInput\u001b[0m\u001b[1;33m[\u001b[0m\u001b[0mi\u001b[0m\u001b[1;33m]\u001b[0m\u001b[1;33m[\u001b[0m\u001b[1;36m1\u001b[0m\u001b[1;33m]\u001b[0m\u001b[1;33m)\u001b[0m\u001b[1;33m,\u001b[0m\u001b[0mint\u001b[0m\u001b[1;33m(\u001b[0m\u001b[0mmyInput\u001b[0m\u001b[1;33m[\u001b[0m\u001b[0mi\u001b[0m\u001b[1;33m]\u001b[0m\u001b[1;33m[\u001b[0m\u001b[1;36m2\u001b[0m\u001b[1;33m]\u001b[0m\u001b[1;33m)\u001b[0m\u001b[1;33m,\u001b[0m\u001b[0mnumberOfWires\u001b[0m\u001b[1;33m,\u001b[0m\u001b[0mfloat\u001b[0m\u001b[1;33m(\u001b[0m\u001b[0mmyInput\u001b[0m\u001b[1;33m[\u001b[0m\u001b[0mi\u001b[0m\u001b[1;33m]\u001b[0m\u001b[1;33m[\u001b[0m\u001b[1;36m3\u001b[0m\u001b[1;33m]\u001b[0m\u001b[1;33m)\u001b[0m\u001b[1;33m)\u001b[0m\u001b[1;33m)\u001b[0m\u001b[1;33m\u001b[0m\u001b[1;33m\u001b[0m\u001b[0m\n\u001b[0m\u001b[0;32m     21\u001b[0m         \u001b[1;32mif\u001b[0m \u001b[0mmyInput\u001b[0m\u001b[1;33m[\u001b[0m\u001b[0mi\u001b[0m\u001b[1;33m]\u001b[0m\u001b[1;33m[\u001b[0m\u001b[1;36m0\u001b[0m\u001b[1;33m]\u001b[0m \u001b[1;33m==\u001b[0m \u001b[1;34m'cPHASE'\u001b[0m\u001b[1;33m:\u001b[0m\u001b[1;33m\u001b[0m\u001b[1;33m\u001b[0m\u001b[0m\n\u001b[0;32m     22\u001b[0m             \u001b[0mmatrixList\u001b[0m\u001b[1;33m.\u001b[0m\u001b[0mappend\u001b[0m\u001b[1;33m(\u001b[0m\u001b[0mCphase\u001b[0m\u001b[1;33m(\u001b[0m\u001b[0mint\u001b[0m\u001b[1;33m(\u001b[0m\u001b[0mmyInput\u001b[0m\u001b[1;33m[\u001b[0m\u001b[0mi\u001b[0m\u001b[1;33m]\u001b[0m\u001b[1;33m[\u001b[0m\u001b[1;36m1\u001b[0m\u001b[1;33m]\u001b[0m\u001b[1;33m)\u001b[0m\u001b[1;33m,\u001b[0m\u001b[0mint\u001b[0m\u001b[1;33m(\u001b[0m\u001b[0mmyInput\u001b[0m\u001b[1;33m[\u001b[0m\u001b[0mi\u001b[0m\u001b[1;33m]\u001b[0m\u001b[1;33m[\u001b[0m\u001b[1;36m2\u001b[0m\u001b[1;33m]\u001b[0m\u001b[1;33m)\u001b[0m\u001b[1;33m,\u001b[0m\u001b[0mnumberOfWires\u001b[0m\u001b[1;33m,\u001b[0m\u001b[0mfloat\u001b[0m\u001b[1;33m(\u001b[0m\u001b[0mmyInput\u001b[0m\u001b[1;33m[\u001b[0m\u001b[0mi\u001b[0m\u001b[1;33m]\u001b[0m\u001b[1;33m[\u001b[0m\u001b[1;36m3\u001b[0m\u001b[1;33m]\u001b[0m\u001b[1;33m)\u001b[0m\u001b[1;33m)\u001b[0m\u001b[1;33m)\u001b[0m\u001b[1;33m\u001b[0m\u001b[1;33m\u001b[0m\u001b[0m\n",
      "\u001b[1;32m<ipython-input-33-c27175384ed8>\u001b[0m in \u001b[0;36mCphase\u001b[1;34m(control, other, k, theta)\u001b[0m\n\u001b[0;32m     86\u001b[0m     \u001b[0mP_\u001b[0m \u001b[1;33m=\u001b[0m \u001b[0mPhaseArray\u001b[0m\u001b[1;33m(\u001b[0m\u001b[0mcontrol\u001b[0m\u001b[1;33m,\u001b[0m\u001b[0mk\u001b[0m\u001b[1;33m,\u001b[0m\u001b[0mtheta\u001b[0m\u001b[1;33m)\u001b[0m\u001b[1;33m\u001b[0m\u001b[1;33m\u001b[0m\u001b[0m\n\u001b[0;32m     87\u001b[0m     \u001b[0mP\u001b[0m \u001b[1;33m=\u001b[0m \u001b[0mPhaseArray\u001b[0m\u001b[1;33m(\u001b[0m\u001b[0mcontrol\u001b[0m\u001b[1;33m,\u001b[0m\u001b[0mk\u001b[0m\u001b[1;33m,\u001b[0m\u001b[1;33m-\u001b[0m\u001b[0mtheta\u001b[0m\u001b[1;33m/\u001b[0m\u001b[1;36m2\u001b[0m\u001b[1;33m)\u001b[0m\u001b[1;33m\u001b[0m\u001b[1;33m\u001b[0m\u001b[0m\n\u001b[1;32m---> 88\u001b[1;33m     \u001b[0mCrz\u001b[0m \u001b[1;33m=\u001b[0m \u001b[0mControlRzGate\u001b[0m\u001b[1;33m(\u001b[0m\u001b[0mcontrol\u001b[0m\u001b[1;33m,\u001b[0m\u001b[0mother\u001b[0m\u001b[1;33m,\u001b[0m\u001b[0mk\u001b[0m\u001b[1;33m,\u001b[0m\u001b[0mtheta\u001b[0m\u001b[1;33m)\u001b[0m\u001b[1;33m\u001b[0m\u001b[1;33m\u001b[0m\u001b[0m\n\u001b[0m\u001b[0;32m     89\u001b[0m     \u001b[1;32mreturn\u001b[0m  \u001b[0mCrz\u001b[0m \u001b[1;33m@\u001b[0m \u001b[0mP_\u001b[0m \u001b[1;33m@\u001b[0m \u001b[0mP\u001b[0m\u001b[1;33m\u001b[0m\u001b[1;33m\u001b[0m\u001b[0m\n\u001b[0;32m     90\u001b[0m \u001b[1;33m\u001b[0m\u001b[0m\n",
      "\u001b[1;32m<ipython-input-33-c27175384ed8>\u001b[0m in \u001b[0;36mControlRzGate\u001b[1;34m(control, other, k, theta)\u001b[0m\n\u001b[0;32m     80\u001b[0m     \u001b[0mP_\u001b[0m \u001b[1;33m=\u001b[0m \u001b[0mPhaseArray\u001b[0m\u001b[1;33m(\u001b[0m\u001b[0mother\u001b[0m\u001b[1;33m,\u001b[0m\u001b[0mk\u001b[0m\u001b[1;33m,\u001b[0m\u001b[0mtheta\u001b[0m\u001b[1;33m)\u001b[0m\u001b[1;33m\u001b[0m\u001b[1;33m\u001b[0m\u001b[0m\n\u001b[0;32m     81\u001b[0m     \u001b[0mP\u001b[0m \u001b[1;33m=\u001b[0m \u001b[0mPhaseArray\u001b[0m\u001b[1;33m(\u001b[0m\u001b[0mother\u001b[0m\u001b[1;33m,\u001b[0m\u001b[0mk\u001b[0m\u001b[1;33m,\u001b[0m\u001b[1;33m-\u001b[0m\u001b[0mtheta\u001b[0m\u001b[1;33m/\u001b[0m\u001b[1;36m2\u001b[0m\u001b[1;33m)\u001b[0m\u001b[1;33m\u001b[0m\u001b[1;33m\u001b[0m\u001b[0m\n\u001b[1;32m---> 82\u001b[1;33m     \u001b[0mCnot\u001b[0m \u001b[1;33m=\u001b[0m \u001b[0mlongCNOT\u001b[0m\u001b[1;33m(\u001b[0m\u001b[0mcontrol\u001b[0m\u001b[1;33m,\u001b[0m\u001b[0mother\u001b[0m\u001b[1;33m,\u001b[0m\u001b[0mk\u001b[0m\u001b[1;33m)\u001b[0m\u001b[1;33m\u001b[0m\u001b[1;33m\u001b[0m\u001b[0m\n\u001b[0m\u001b[0;32m     83\u001b[0m     \u001b[1;32mreturn\u001b[0m \u001b[0mCnot\u001b[0m\u001b[1;33m@\u001b[0m\u001b[0mP\u001b[0m\u001b[1;33m@\u001b[0m\u001b[0mCnot\u001b[0m\u001b[1;33m@\u001b[0m\u001b[0mP\u001b[0m\u001b[1;33m@\u001b[0m\u001b[0mP_\u001b[0m\u001b[1;33m\u001b[0m\u001b[1;33m\u001b[0m\u001b[0m\n\u001b[0;32m     84\u001b[0m \u001b[1;33m\u001b[0m\u001b[0m\n",
      "\u001b[1;32m<ipython-input-33-c27175384ed8>\u001b[0m in \u001b[0;36mlongCNOT\u001b[1;34m(control, other, k)\u001b[0m\n\u001b[0;32m    112\u001b[0m     \u001b[0motherMatrixL\u001b[0m \u001b[1;33m=\u001b[0m \u001b[1;33m[\u001b[0m\u001b[1;33m]\u001b[0m\u001b[1;33m\u001b[0m\u001b[1;33m\u001b[0m\u001b[0m\n\u001b[0;32m    113\u001b[0m     \u001b[1;32mfor\u001b[0m \u001b[0mi\u001b[0m \u001b[1;32min\u001b[0m \u001b[0mrange\u001b[0m\u001b[1;33m(\u001b[0m\u001b[1;33m(\u001b[0m\u001b[0mother\u001b[0m\u001b[1;33m-\u001b[0m\u001b[0mcontrol\u001b[0m\u001b[1;33m)\u001b[0m\u001b[1;33m-\u001b[0m\u001b[1;36m1\u001b[0m\u001b[1;33m)\u001b[0m\u001b[1;33m:\u001b[0m\u001b[1;33m\u001b[0m\u001b[1;33m\u001b[0m\u001b[0m\n\u001b[1;32m--> 114\u001b[1;33m         \u001b[0mmatrixL\u001b[0m\u001b[1;33m.\u001b[0m\u001b[0mappend\u001b[0m\u001b[1;33m(\u001b[0m\u001b[1;33m(\u001b[0m\u001b[1;33m(\u001b[0m\u001b[0mother\u001b[0m\u001b[1;33m-\u001b[0m\u001b[0mi\u001b[0m\u001b[1;33m,\u001b[0m\u001b[0mother\u001b[0m\u001b[1;33m-\u001b[0m\u001b[0mi\u001b[0m\u001b[1;33m-\u001b[0m\u001b[1;36m1\u001b[0m\u001b[1;33m)\u001b[0m\u001b[1;33m,\u001b[0m\u001b[0mSWAPmatrix\u001b[0m\u001b[1;33m(\u001b[0m\u001b[0mother\u001b[0m\u001b[1;33m-\u001b[0m\u001b[0mi\u001b[0m\u001b[1;33m,\u001b[0m\u001b[0mother\u001b[0m\u001b[1;33m-\u001b[0m\u001b[0mi\u001b[0m\u001b[1;33m-\u001b[0m\u001b[1;36m1\u001b[0m\u001b[1;33m,\u001b[0m\u001b[0mk\u001b[0m\u001b[1;33m)\u001b[0m\u001b[1;33m)\u001b[0m\u001b[1;33m)\u001b[0m\u001b[1;33m\u001b[0m\u001b[1;33m\u001b[0m\u001b[0m\n\u001b[0m\u001b[0;32m    115\u001b[0m     \u001b[1;32mfor\u001b[0m \u001b[0mi\u001b[0m \u001b[1;32min\u001b[0m \u001b[0mrange\u001b[0m\u001b[1;33m(\u001b[0m\u001b[0mlen\u001b[0m\u001b[1;33m(\u001b[0m\u001b[0mmatrixL\u001b[0m\u001b[1;33m)\u001b[0m\u001b[1;33m)\u001b[0m\u001b[1;33m:\u001b[0m\u001b[1;33m\u001b[0m\u001b[1;33m\u001b[0m\u001b[0m\n\u001b[0;32m    116\u001b[0m         \u001b[0motherMatrixL\u001b[0m\u001b[1;33m.\u001b[0m\u001b[0mappend\u001b[0m\u001b[1;33m(\u001b[0m\u001b[0mmatrixL\u001b[0m\u001b[1;33m[\u001b[0m\u001b[0mi\u001b[0m\u001b[1;33m]\u001b[0m\u001b[1;33m)\u001b[0m\u001b[1;33m\u001b[0m\u001b[1;33m\u001b[0m\u001b[0m\n",
      "\u001b[1;32m<ipython-input-33-c27175384ed8>\u001b[0m in \u001b[0;36mSWAPmatrix\u001b[1;34m(Wire1, Wire2, k)\u001b[0m\n\u001b[0;32m     43\u001b[0m         \u001b[1;32melif\u001b[0m \u001b[0mWire1\u001b[0m \u001b[1;33m!=\u001b[0m \u001b[0ml\u001b[0m \u001b[1;32mand\u001b[0m \u001b[0mWire2\u001b[0m \u001b[1;33m!=\u001b[0m \u001b[0ml\u001b[0m\u001b[1;33m:\u001b[0m\u001b[1;33m\u001b[0m\u001b[1;33m\u001b[0m\u001b[0m\n\u001b[0;32m     44\u001b[0m             \u001b[0mmatriceList\u001b[0m\u001b[1;33m.\u001b[0m\u001b[0mappend\u001b[0m\u001b[1;33m(\u001b[0m\u001b[0mI\u001b[0m\u001b[1;33m)\u001b[0m\u001b[1;33m\u001b[0m\u001b[1;33m\u001b[0m\u001b[0m\n\u001b[1;32m---> 45\u001b[1;33m     \u001b[1;32mreturn\u001b[0m \u001b[0mtensorMe\u001b[0m\u001b[1;33m(\u001b[0m\u001b[0mmatriceList\u001b[0m\u001b[1;33m)\u001b[0m\u001b[1;33m\u001b[0m\u001b[1;33m\u001b[0m\u001b[0m\n\u001b[0m\u001b[0;32m     46\u001b[0m \u001b[1;33m\u001b[0m\u001b[0m\n\u001b[0;32m     47\u001b[0m \u001b[1;32mdef\u001b[0m \u001b[0mSWAPgate\u001b[0m\u001b[1;33m(\u001b[0m\u001b[0mwire1\u001b[0m\u001b[1;33m,\u001b[0m\u001b[0mwire2\u001b[0m\u001b[1;33m,\u001b[0m\u001b[0mk\u001b[0m\u001b[1;33m)\u001b[0m\u001b[1;33m:\u001b[0m\u001b[1;33m\u001b[0m\u001b[1;33m\u001b[0m\u001b[0m\n",
      "\u001b[1;32m<ipython-input-33-c27175384ed8>\u001b[0m in \u001b[0;36mtensorMe\u001b[1;34m(listofMatrices)\u001b[0m\n\u001b[0;32m      5\u001b[0m     \u001b[1;32mif\u001b[0m \u001b[0mlen\u001b[0m\u001b[1;33m(\u001b[0m\u001b[0mlistofMatrices\u001b[0m\u001b[1;33m)\u001b[0m \u001b[1;33m>\u001b[0m \u001b[1;36m2\u001b[0m\u001b[1;33m:\u001b[0m\u001b[1;33m\u001b[0m\u001b[1;33m\u001b[0m\u001b[0m\n\u001b[0;32m      6\u001b[0m         \u001b[1;32mfor\u001b[0m \u001b[0ma\u001b[0m \u001b[1;32min\u001b[0m \u001b[0mlistofMatrices\u001b[0m\u001b[1;33m[\u001b[0m\u001b[1;36m2\u001b[0m\u001b[1;33m:\u001b[0m\u001b[1;33m]\u001b[0m\u001b[1;33m:\u001b[0m\u001b[1;33m\u001b[0m\u001b[1;33m\u001b[0m\u001b[0m\n\u001b[1;32m----> 7\u001b[1;33m             \u001b[0mz\u001b[0m \u001b[1;33m=\u001b[0m \u001b[0mnp\u001b[0m\u001b[1;33m.\u001b[0m\u001b[0mkron\u001b[0m\u001b[1;33m(\u001b[0m\u001b[0mz\u001b[0m\u001b[1;33m,\u001b[0m\u001b[0ma\u001b[0m\u001b[1;33m)\u001b[0m\u001b[1;33m\u001b[0m\u001b[1;33m\u001b[0m\u001b[0m\n\u001b[0m\u001b[0;32m      8\u001b[0m         \u001b[0mmatrix\u001b[0m \u001b[1;33m=\u001b[0m \u001b[0mz\u001b[0m\u001b[1;33m\u001b[0m\u001b[1;33m\u001b[0m\u001b[0m\n\u001b[0;32m      9\u001b[0m     \u001b[1;32melse\u001b[0m\u001b[1;33m:\u001b[0m\u001b[1;33m\u001b[0m\u001b[1;33m\u001b[0m\u001b[0m\n",
      "\u001b[1;32m<__array_function__ internals>\u001b[0m in \u001b[0;36mkron\u001b[1;34m(*args, **kwargs)\u001b[0m\n",
      "\u001b[1;32m~\\Anaconda3\\envs\\name_of_my_env\\lib\\site-packages\\numpy\\lib\\shape_base.py\u001b[0m in \u001b[0;36mkron\u001b[1;34m(a, b)\u001b[0m\n\u001b[0;32m   1139\u001b[0m     \u001b[0maxis\u001b[0m \u001b[1;33m=\u001b[0m \u001b[0mnd\u001b[0m\u001b[1;33m-\u001b[0m\u001b[1;36m1\u001b[0m\u001b[1;33m\u001b[0m\u001b[1;33m\u001b[0m\u001b[0m\n\u001b[0;32m   1140\u001b[0m     \u001b[1;32mfor\u001b[0m \u001b[0m_\u001b[0m \u001b[1;32min\u001b[0m \u001b[0mrange\u001b[0m\u001b[1;33m(\u001b[0m\u001b[0mnd\u001b[0m\u001b[1;33m)\u001b[0m\u001b[1;33m:\u001b[0m\u001b[1;33m\u001b[0m\u001b[1;33m\u001b[0m\u001b[0m\n\u001b[1;32m-> 1141\u001b[1;33m         \u001b[0mresult\u001b[0m \u001b[1;33m=\u001b[0m \u001b[0mconcatenate\u001b[0m\u001b[1;33m(\u001b[0m\u001b[0mresult\u001b[0m\u001b[1;33m,\u001b[0m \u001b[0maxis\u001b[0m\u001b[1;33m=\u001b[0m\u001b[0maxis\u001b[0m\u001b[1;33m)\u001b[0m\u001b[1;33m\u001b[0m\u001b[1;33m\u001b[0m\u001b[0m\n\u001b[0m\u001b[0;32m   1142\u001b[0m     \u001b[0mwrapper\u001b[0m \u001b[1;33m=\u001b[0m \u001b[0mget_array_prepare\u001b[0m\u001b[1;33m(\u001b[0m\u001b[0ma\u001b[0m\u001b[1;33m,\u001b[0m \u001b[0mb\u001b[0m\u001b[1;33m)\u001b[0m\u001b[1;33m\u001b[0m\u001b[1;33m\u001b[0m\u001b[0m\n\u001b[0;32m   1143\u001b[0m     \u001b[1;32mif\u001b[0m \u001b[0mwrapper\u001b[0m \u001b[1;32mis\u001b[0m \u001b[1;32mnot\u001b[0m \u001b[1;32mNone\u001b[0m\u001b[1;33m:\u001b[0m\u001b[1;33m\u001b[0m\u001b[1;33m\u001b[0m\u001b[0m\n",
      "\u001b[1;32m<__array_function__ internals>\u001b[0m in \u001b[0;36mconcatenate\u001b[1;34m(*args, **kwargs)\u001b[0m\n",
      "\u001b[1;31mKeyboardInterrupt\u001b[0m: "
     ]
    }
   ],
   "source": [
    "result=[]\n",
    "k = np.linspace(0,2*np.pi,100,dtype='float64')\n",
    "for i in range(len(k)-1):\n",
    "    phase_estimation_circuit_gen(7,k[i],'MEASURE')\n",
    "    result.append(QuantumSimulatorIb([(1,'0000001')],'Phase_estimation_7.txt'))\n"
   ]
  },
  {
   "cell_type": "code",
   "execution_count": 71,
   "metadata": {},
   "outputs": [],
   "source": [
    "hist=[]\n",
    "phase_estimation_circuit_gen(7,0.9,'MEASURE')\n",
    "for i in range(100):\n",
    "    hist.append(QuantumSimulatorIb([(1,'0000001')],'Phase_estimation_7.txt'))"
   ]
  },
  {
   "cell_type": "code",
   "execution_count": 72,
   "metadata": {},
   "outputs": [
    {
     "data": {
      "image/png": "[encoded data removed]",
      "text/plain": [
       "<Figure size 432x288 with 1 Axes>"
      ]
     },
     "metadata": {
      "needs_background": "light"
     },
     "output_type": "display_data"
    }
   ],
   "source": [
    "alist = []\n",
    "for i in range(len(hist)):\n",
    "    alist.append(phaseEstimation(6,hist[i][0][0]))\n",
    "plt.hist(alist,bins=100)\n",
    "plt.plot([0.1432 for i in range(0,70)],range(0,70))\n",
    "plt.title('Histogram')\n",
    "plt.xlabel(\"Phase estimation: $\\Theta_j$\")\n",
    "plt.ylabel('Count')\n",
    "plt.legend(['0.1432'])\n",
    "plt.show()"
   ]
  },
  {
   "cell_type": "code",
   "execution_count": 73,
   "metadata": {},
   "outputs": [
    {
     "ename": "TypeError",
     "evalue": "bad operand type for abs(): 'str'",
     "output_type": "error",
     "traceback": [
      "\u001b[1;31m---------------------------------------------------------------------------\u001b[0m",
      "\u001b[1;31mTypeError\u001b[0m                                 Traceback (most recent call last)",
      "\u001b[1;32m<ipython-input-73-cfc26b936a56>\u001b[0m in \u001b[0;36m<module>\u001b[1;34m\u001b[0m\n\u001b[0;32m      3\u001b[0m \u001b[1;32mfor\u001b[0m \u001b[0mi\u001b[0m \u001b[1;32min\u001b[0m \u001b[0mrange\u001b[0m\u001b[1;33m(\u001b[0m\u001b[0mlen\u001b[0m\u001b[1;33m(\u001b[0m\u001b[0mresult\u001b[0m\u001b[1;33m)\u001b[0m\u001b[1;33m)\u001b[0m\u001b[1;33m:\u001b[0m\u001b[1;33m\u001b[0m\u001b[1;33m\u001b[0m\u001b[0m\n\u001b[0;32m      4\u001b[0m     \u001b[1;32mfor\u001b[0m \u001b[0mj\u001b[0m \u001b[1;32min\u001b[0m \u001b[0mrange\u001b[0m\u001b[1;33m(\u001b[0m\u001b[0mlen\u001b[0m\u001b[1;33m(\u001b[0m\u001b[0mresult\u001b[0m\u001b[1;33m[\u001b[0m\u001b[0mi\u001b[0m\u001b[1;33m]\u001b[0m\u001b[1;33m[\u001b[0m\u001b[1;36m0\u001b[0m\u001b[1;33m]\u001b[0m\u001b[1;33m)\u001b[0m\u001b[1;33m)\u001b[0m\u001b[1;33m:\u001b[0m\u001b[1;33m\u001b[0m\u001b[1;33m\u001b[0m\u001b[0m\n\u001b[1;32m----> 5\u001b[1;33m         \u001b[0molist\u001b[0m\u001b[1;33m.\u001b[0m\u001b[0mappend\u001b[0m\u001b[1;33m(\u001b[0m\u001b[1;33m(\u001b[0m\u001b[0mabs\u001b[0m\u001b[1;33m(\u001b[0m\u001b[0mresult\u001b[0m\u001b[1;33m[\u001b[0m\u001b[0mi\u001b[0m\u001b[1;33m]\u001b[0m\u001b[1;33m[\u001b[0m\u001b[1;36m0\u001b[0m\u001b[1;33m]\u001b[0m\u001b[1;33m[\u001b[0m\u001b[0mj\u001b[0m\u001b[1;33m]\u001b[0m\u001b[1;33m[\u001b[0m\u001b[1;36m0\u001b[0m\u001b[1;33m]\u001b[0m\u001b[1;33m)\u001b[0m\u001b[1;33m**\u001b[0m\u001b[1;36m2\u001b[0m\u001b[1;33m,\u001b[0m\u001b[0mphaseEstimation\u001b[0m\u001b[1;33m(\u001b[0m\u001b[1;36m6\u001b[0m\u001b[1;33m,\u001b[0m\u001b[0mresult\u001b[0m\u001b[1;33m[\u001b[0m\u001b[0mi\u001b[0m\u001b[1;33m]\u001b[0m\u001b[1;33m[\u001b[0m\u001b[1;36m0\u001b[0m\u001b[1;33m]\u001b[0m\u001b[1;33m[\u001b[0m\u001b[0mj\u001b[0m\u001b[1;33m]\u001b[0m\u001b[1;33m[\u001b[0m\u001b[1;36m1\u001b[0m\u001b[1;33m]\u001b[0m\u001b[1;33m)\u001b[0m\u001b[1;33m)\u001b[0m\u001b[1;33m)\u001b[0m\u001b[1;33m\u001b[0m\u001b[1;33m\u001b[0m\u001b[0m\n\u001b[0m\u001b[0;32m      6\u001b[0m \u001b[0mnewList\u001b[0m \u001b[1;33m=\u001b[0m \u001b[1;33m[\u001b[0m\u001b[1;33m]\u001b[0m\u001b[1;33m\u001b[0m\u001b[1;33m\u001b[0m\u001b[0m\n\u001b[0;32m      7\u001b[0m \u001b[0molist\u001b[0m \u001b[1;33m=\u001b[0m \u001b[0mnp\u001b[0m\u001b[1;33m.\u001b[0m\u001b[0marray\u001b[0m\u001b[1;33m(\u001b[0m\u001b[0molist\u001b[0m\u001b[1;33m)\u001b[0m\u001b[1;33m\u001b[0m\u001b[1;33m\u001b[0m\u001b[0m\n",
      "\u001b[1;31mTypeError\u001b[0m: bad operand type for abs(): 'str'"
     ]
    }
   ],
   "source": [
    "thetaList = np.linspace(0,1,99)\n",
    "olist = []\n",
    "for i in range(len(result)):\n",
    "    for j in range(len(result[i][0])):\n",
    "        olist.append((abs(result[i][0][j][0])**2,phaseEstimation(6,result[i][0][j][1])))\n",
    "newList = []\n",
    "olist = np.array(olist)\n",
    "olist = olist.reshape((99,64,2))\n",
    "for i in range(len(olist)):\n",
    "    res = max(olist[i],key=lambda j:j[0])\n",
    "    newList.append(res[1])\n",
    "plt.plot(thetaList,newList)\n",
    "plt.title('$\\Theta_j$ vs $\\phi$/2$\\pi$')\n",
    "plt.ylabel('$\\Theta_j$')\n",
    "plt.xlabel('$\\phi$/2$\\pi$')"
   ]
  },
  {
   "cell_type": "code",
   "execution_count": 2101,
   "metadata": {},
   "outputs": [
    {
     "data": {
      "text/plain": [
       "0"
      ]
     },
     "execution_count": 2101,
     "metadata": {},
     "output_type": "execute_result"
    }
   ],
   "source": [
    "phase_estimation_circuit_gen(7,0.5,'MEASURE')"
   ]
  },
  {
   "cell_type": "code",
   "execution_count": 74,
   "metadata": {},
   "outputs": [
    {
     "name": "stdout",
     "output_type": "stream",
     "text": [
      "[('0000000', 'Circuit Measurement: 0000000')]\n",
      "[('0000000', 'Circuit Measurement: 0000000')]\n",
      "[('0000000', 'Circuit Measurement: 0000000')]\n",
      "[('0000000', 'Circuit Measurement: 0000000')]\n",
      "[('0000000', 'Circuit Measurement: 0000000')]\n",
      "[('0000000', 'Circuit Measurement: 0000000')]\n",
      "[('0000000', 'Circuit Measurement: 0000000')]\n",
      "[('0000000', 'Circuit Measurement: 0000000')]\n",
      "[('0000000', 'Circuit Measurement: 0000000')]\n",
      "[('0000000', 'Circuit Measurement: 0000000')]\n",
      "[('0000000', 'Circuit Measurement: 0000000')]\n",
      "[('0000000', 'Circuit Measurement: 0000000')]\n",
      "[('0000000', 'Circuit Measurement: 0000000')]\n",
      "[('0000000', 'Circuit Measurement: 0000000')]\n",
      "[('0000000', 'Circuit Measurement: 0000000')]\n",
      "[('0000000', 'Circuit Measurement: 0000000')]\n",
      "[('0000000', 'Circuit Measurement: 0000000')]\n",
      "[('0000000', 'Circuit Measurement: 0000000')]\n",
      "[('0000000', 'Circuit Measurement: 0000000')]\n",
      "[('0000000', 'Circuit Measurement: 0000000')]\n",
      "[('0000000', 'Circuit Measurement: 0000000')]\n",
      "[('0000000', 'Circuit Measurement: 0000000')]\n",
      "[('0000000', 'Circuit Measurement: 0000000')]\n",
      "[('0000000', 'Circuit Measurement: 0000000')]\n",
      "[('0000000', 'Circuit Measurement: 0000000')]\n",
      "[('0000000', 'Circuit Measurement: 0000000')]\n",
      "[('0000000', 'Circuit Measurement: 0000000')]\n",
      "[('0000000', 'Circuit Measurement: 0000000')]\n",
      "[('0000000', 'Circuit Measurement: 0000000')]\n",
      "[('0000000', 'Circuit Measurement: 0000000')]\n",
      "[('0000000', 'Circuit Measurement: 0000000')]\n",
      "[('0000000', 'Circuit Measurement: 0000000')]\n"
     ]
    },
    {
     "ename": "KeyboardInterrupt",
     "evalue": "",
     "output_type": "error",
     "traceback": [
      "\u001b[1;31m---------------------------------------------------------------------------\u001b[0m",
      "\u001b[1;31mKeyboardInterrupt\u001b[0m                         Traceback (most recent call last)",
      "\u001b[1;32m<ipython-input-74-8b23f290e406>\u001b[0m in \u001b[0;36m<module>\u001b[1;34m\u001b[0m\n\u001b[0;32m      1\u001b[0m \u001b[0mzlist\u001b[0m \u001b[1;33m=\u001b[0m \u001b[1;33m[\u001b[0m\u001b[1;33m]\u001b[0m\u001b[1;33m\u001b[0m\u001b[1;33m\u001b[0m\u001b[0m\n\u001b[0;32m      2\u001b[0m \u001b[1;32mfor\u001b[0m \u001b[0mi\u001b[0m \u001b[1;32min\u001b[0m \u001b[0mrange\u001b[0m\u001b[1;33m(\u001b[0m\u001b[1;36m100\u001b[0m\u001b[1;33m)\u001b[0m\u001b[1;33m:\u001b[0m\u001b[1;33m\u001b[0m\u001b[1;33m\u001b[0m\u001b[0m\n\u001b[1;32m----> 3\u001b[1;33m     \u001b[0mzlist\u001b[0m\u001b[1;33m.\u001b[0m\u001b[0mappend\u001b[0m\u001b[1;33m(\u001b[0m\u001b[1;33m(\u001b[0m\u001b[0mQuantumSimulatorIb\u001b[0m\u001b[1;33m(\u001b[0m\u001b[1;33m[\u001b[0m\u001b[1;33m(\u001b[0m\u001b[0mnp\u001b[0m\u001b[1;33m.\u001b[0m\u001b[0msqrt\u001b[0m\u001b[1;33m(\u001b[0m\u001b[1;36m3\u001b[0m\u001b[1;33m)\u001b[0m\u001b[1;33m,\u001b[0m\u001b[1;34m'0000000'\u001b[0m\u001b[1;33m)\u001b[0m\u001b[1;33m,\u001b[0m\u001b[1;33m(\u001b[0m\u001b[0mnp\u001b[0m\u001b[1;33m.\u001b[0m\u001b[0msqrt\u001b[0m\u001b[1;33m(\u001b[0m\u001b[1;36m7\u001b[0m\u001b[1;33m)\u001b[0m\u001b[1;33m,\u001b[0m\u001b[1;34m'0000001'\u001b[0m\u001b[1;33m)\u001b[0m\u001b[1;33m]\u001b[0m\u001b[1;33m,\u001b[0m\u001b[1;34m\"Phase_estimation_7.txt\"\u001b[0m\u001b[1;33m)\u001b[0m\u001b[1;33m)\u001b[0m\u001b[1;33m)\u001b[0m\u001b[1;33m\u001b[0m\u001b[1;33m\u001b[0m\u001b[0m\n\u001b[0m\u001b[0;32m      4\u001b[0m     \u001b[0mprint\u001b[0m\u001b[1;33m(\u001b[0m\u001b[0mzlist\u001b[0m\u001b[1;33m[\u001b[0m\u001b[0mi\u001b[0m\u001b[1;33m]\u001b[0m\u001b[1;33m)\u001b[0m\u001b[1;33m\u001b[0m\u001b[1;33m\u001b[0m\u001b[0m\n\u001b[0;32m      5\u001b[0m \u001b[0malist\u001b[0m \u001b[1;33m=\u001b[0m \u001b[1;33m[\u001b[0m\u001b[1;33m]\u001b[0m\u001b[1;33m\u001b[0m\u001b[1;33m\u001b[0m\u001b[0m\n",
      "\u001b[1;32m<ipython-input-54-9d4b480f9ef7>\u001b[0m in \u001b[0;36mQuantumSimulatorIb\u001b[1;34m(State, fileName)\u001b[0m\n\u001b[0;32m     18\u001b[0m             \u001b[0mmatrixList\u001b[0m\u001b[1;33m.\u001b[0m\u001b[0mappend\u001b[0m\u001b[1;33m(\u001b[0m\u001b[0mPhaseArray\u001b[0m\u001b[1;33m(\u001b[0m\u001b[0mint\u001b[0m\u001b[1;33m(\u001b[0m\u001b[0mmyInput\u001b[0m\u001b[1;33m[\u001b[0m\u001b[0mi\u001b[0m\u001b[1;33m]\u001b[0m\u001b[1;33m[\u001b[0m\u001b[1;36m1\u001b[0m\u001b[1;33m]\u001b[0m\u001b[1;33m)\u001b[0m\u001b[1;33m,\u001b[0m\u001b[0mnumberOfWires\u001b[0m\u001b[1;33m,\u001b[0m\u001b[0mfloat\u001b[0m\u001b[1;33m(\u001b[0m\u001b[0mmyInput\u001b[0m\u001b[1;33m[\u001b[0m\u001b[0mi\u001b[0m\u001b[1;33m]\u001b[0m\u001b[1;33m[\u001b[0m\u001b[1;36m2\u001b[0m\u001b[1;33m]\u001b[0m\u001b[1;33m)\u001b[0m\u001b[1;33m)\u001b[0m\u001b[1;33m)\u001b[0m\u001b[1;33m\u001b[0m\u001b[1;33m\u001b[0m\u001b[0m\n\u001b[0;32m     19\u001b[0m         \u001b[1;32mif\u001b[0m \u001b[0mmyInput\u001b[0m\u001b[1;33m[\u001b[0m\u001b[0mi\u001b[0m\u001b[1;33m]\u001b[0m\u001b[1;33m[\u001b[0m\u001b[1;36m0\u001b[0m\u001b[1;33m]\u001b[0m \u001b[1;33m==\u001b[0m \u001b[1;34m'CPHASE'\u001b[0m\u001b[1;33m:\u001b[0m\u001b[1;33m\u001b[0m\u001b[1;33m\u001b[0m\u001b[0m\n\u001b[1;32m---> 20\u001b[1;33m             \u001b[0mmatrixList\u001b[0m\u001b[1;33m.\u001b[0m\u001b[0mappend\u001b[0m\u001b[1;33m(\u001b[0m\u001b[0mCphase\u001b[0m\u001b[1;33m(\u001b[0m\u001b[0mint\u001b[0m\u001b[1;33m(\u001b[0m\u001b[0mmyInput\u001b[0m\u001b[1;33m[\u001b[0m\u001b[0mi\u001b[0m\u001b[1;33m]\u001b[0m\u001b[1;33m[\u001b[0m\u001b[1;36m1\u001b[0m\u001b[1;33m]\u001b[0m\u001b[1;33m)\u001b[0m\u001b[1;33m,\u001b[0m\u001b[0mint\u001b[0m\u001b[1;33m(\u001b[0m\u001b[0mmyInput\u001b[0m\u001b[1;33m[\u001b[0m\u001b[0mi\u001b[0m\u001b[1;33m]\u001b[0m\u001b[1;33m[\u001b[0m\u001b[1;36m2\u001b[0m\u001b[1;33m]\u001b[0m\u001b[1;33m)\u001b[0m\u001b[1;33m,\u001b[0m\u001b[0mnumberOfWires\u001b[0m\u001b[1;33m,\u001b[0m\u001b[0mfloat\u001b[0m\u001b[1;33m(\u001b[0m\u001b[0mmyInput\u001b[0m\u001b[1;33m[\u001b[0m\u001b[0mi\u001b[0m\u001b[1;33m]\u001b[0m\u001b[1;33m[\u001b[0m\u001b[1;36m3\u001b[0m\u001b[1;33m]\u001b[0m\u001b[1;33m)\u001b[0m\u001b[1;33m)\u001b[0m\u001b[1;33m)\u001b[0m\u001b[1;33m\u001b[0m\u001b[1;33m\u001b[0m\u001b[0m\n\u001b[0m\u001b[0;32m     21\u001b[0m         \u001b[1;32mif\u001b[0m \u001b[0mmyInput\u001b[0m\u001b[1;33m[\u001b[0m\u001b[0mi\u001b[0m\u001b[1;33m]\u001b[0m\u001b[1;33m[\u001b[0m\u001b[1;36m0\u001b[0m\u001b[1;33m]\u001b[0m \u001b[1;33m==\u001b[0m \u001b[1;34m'cPHASE'\u001b[0m\u001b[1;33m:\u001b[0m\u001b[1;33m\u001b[0m\u001b[1;33m\u001b[0m\u001b[0m\n\u001b[0;32m     22\u001b[0m             \u001b[0mmatrixList\u001b[0m\u001b[1;33m.\u001b[0m\u001b[0mappend\u001b[0m\u001b[1;33m(\u001b[0m\u001b[0mCphase\u001b[0m\u001b[1;33m(\u001b[0m\u001b[0mint\u001b[0m\u001b[1;33m(\u001b[0m\u001b[0mmyInput\u001b[0m\u001b[1;33m[\u001b[0m\u001b[0mi\u001b[0m\u001b[1;33m]\u001b[0m\u001b[1;33m[\u001b[0m\u001b[1;36m1\u001b[0m\u001b[1;33m]\u001b[0m\u001b[1;33m)\u001b[0m\u001b[1;33m,\u001b[0m\u001b[0mint\u001b[0m\u001b[1;33m(\u001b[0m\u001b[0mmyInput\u001b[0m\u001b[1;33m[\u001b[0m\u001b[0mi\u001b[0m\u001b[1;33m]\u001b[0m\u001b[1;33m[\u001b[0m\u001b[1;36m2\u001b[0m\u001b[1;33m]\u001b[0m\u001b[1;33m)\u001b[0m\u001b[1;33m,\u001b[0m\u001b[0mnumberOfWires\u001b[0m\u001b[1;33m,\u001b[0m\u001b[0mfloat\u001b[0m\u001b[1;33m(\u001b[0m\u001b[0mmyInput\u001b[0m\u001b[1;33m[\u001b[0m\u001b[0mi\u001b[0m\u001b[1;33m]\u001b[0m\u001b[1;33m[\u001b[0m\u001b[1;36m3\u001b[0m\u001b[1;33m]\u001b[0m\u001b[1;33m)\u001b[0m\u001b[1;33m)\u001b[0m\u001b[1;33m)\u001b[0m\u001b[1;33m\u001b[0m\u001b[1;33m\u001b[0m\u001b[0m\n",
      "\u001b[1;32m<ipython-input-33-c27175384ed8>\u001b[0m in \u001b[0;36mCphase\u001b[1;34m(control, other, k, theta)\u001b[0m\n\u001b[0;32m     86\u001b[0m     \u001b[0mP_\u001b[0m \u001b[1;33m=\u001b[0m \u001b[0mPhaseArray\u001b[0m\u001b[1;33m(\u001b[0m\u001b[0mcontrol\u001b[0m\u001b[1;33m,\u001b[0m\u001b[0mk\u001b[0m\u001b[1;33m,\u001b[0m\u001b[0mtheta\u001b[0m\u001b[1;33m)\u001b[0m\u001b[1;33m\u001b[0m\u001b[1;33m\u001b[0m\u001b[0m\n\u001b[0;32m     87\u001b[0m     \u001b[0mP\u001b[0m \u001b[1;33m=\u001b[0m \u001b[0mPhaseArray\u001b[0m\u001b[1;33m(\u001b[0m\u001b[0mcontrol\u001b[0m\u001b[1;33m,\u001b[0m\u001b[0mk\u001b[0m\u001b[1;33m,\u001b[0m\u001b[1;33m-\u001b[0m\u001b[0mtheta\u001b[0m\u001b[1;33m/\u001b[0m\u001b[1;36m2\u001b[0m\u001b[1;33m)\u001b[0m\u001b[1;33m\u001b[0m\u001b[1;33m\u001b[0m\u001b[0m\n\u001b[1;32m---> 88\u001b[1;33m     \u001b[0mCrz\u001b[0m \u001b[1;33m=\u001b[0m \u001b[0mControlRzGate\u001b[0m\u001b[1;33m(\u001b[0m\u001b[0mcontrol\u001b[0m\u001b[1;33m,\u001b[0m\u001b[0mother\u001b[0m\u001b[1;33m,\u001b[0m\u001b[0mk\u001b[0m\u001b[1;33m,\u001b[0m\u001b[0mtheta\u001b[0m\u001b[1;33m)\u001b[0m\u001b[1;33m\u001b[0m\u001b[1;33m\u001b[0m\u001b[0m\n\u001b[0m\u001b[0;32m     89\u001b[0m     \u001b[1;32mreturn\u001b[0m  \u001b[0mCrz\u001b[0m \u001b[1;33m@\u001b[0m \u001b[0mP_\u001b[0m \u001b[1;33m@\u001b[0m \u001b[0mP\u001b[0m\u001b[1;33m\u001b[0m\u001b[1;33m\u001b[0m\u001b[0m\n\u001b[0;32m     90\u001b[0m \u001b[1;33m\u001b[0m\u001b[0m\n",
      "\u001b[1;32m<ipython-input-33-c27175384ed8>\u001b[0m in \u001b[0;36mControlRzGate\u001b[1;34m(control, other, k, theta)\u001b[0m\n\u001b[0;32m     80\u001b[0m     \u001b[0mP_\u001b[0m \u001b[1;33m=\u001b[0m \u001b[0mPhaseArray\u001b[0m\u001b[1;33m(\u001b[0m\u001b[0mother\u001b[0m\u001b[1;33m,\u001b[0m\u001b[0mk\u001b[0m\u001b[1;33m,\u001b[0m\u001b[0mtheta\u001b[0m\u001b[1;33m)\u001b[0m\u001b[1;33m\u001b[0m\u001b[1;33m\u001b[0m\u001b[0m\n\u001b[0;32m     81\u001b[0m     \u001b[0mP\u001b[0m \u001b[1;33m=\u001b[0m \u001b[0mPhaseArray\u001b[0m\u001b[1;33m(\u001b[0m\u001b[0mother\u001b[0m\u001b[1;33m,\u001b[0m\u001b[0mk\u001b[0m\u001b[1;33m,\u001b[0m\u001b[1;33m-\u001b[0m\u001b[0mtheta\u001b[0m\u001b[1;33m/\u001b[0m\u001b[1;36m2\u001b[0m\u001b[1;33m)\u001b[0m\u001b[1;33m\u001b[0m\u001b[1;33m\u001b[0m\u001b[0m\n\u001b[1;32m---> 82\u001b[1;33m     \u001b[0mCnot\u001b[0m \u001b[1;33m=\u001b[0m \u001b[0mlongCNOT\u001b[0m\u001b[1;33m(\u001b[0m\u001b[0mcontrol\u001b[0m\u001b[1;33m,\u001b[0m\u001b[0mother\u001b[0m\u001b[1;33m,\u001b[0m\u001b[0mk\u001b[0m\u001b[1;33m)\u001b[0m\u001b[1;33m\u001b[0m\u001b[1;33m\u001b[0m\u001b[0m\n\u001b[0m\u001b[0;32m     83\u001b[0m     \u001b[1;32mreturn\u001b[0m \u001b[0mCnot\u001b[0m\u001b[1;33m@\u001b[0m\u001b[0mP\u001b[0m\u001b[1;33m@\u001b[0m\u001b[0mCnot\u001b[0m\u001b[1;33m@\u001b[0m\u001b[0mP\u001b[0m\u001b[1;33m@\u001b[0m\u001b[0mP_\u001b[0m\u001b[1;33m\u001b[0m\u001b[1;33m\u001b[0m\u001b[0m\n\u001b[0;32m     84\u001b[0m \u001b[1;33m\u001b[0m\u001b[0m\n",
      "\u001b[1;32m<ipython-input-33-c27175384ed8>\u001b[0m in \u001b[0;36mlongCNOT\u001b[1;34m(control, other, k)\u001b[0m\n\u001b[0;32m    112\u001b[0m     \u001b[0motherMatrixL\u001b[0m \u001b[1;33m=\u001b[0m \u001b[1;33m[\u001b[0m\u001b[1;33m]\u001b[0m\u001b[1;33m\u001b[0m\u001b[1;33m\u001b[0m\u001b[0m\n\u001b[0;32m    113\u001b[0m     \u001b[1;32mfor\u001b[0m \u001b[0mi\u001b[0m \u001b[1;32min\u001b[0m \u001b[0mrange\u001b[0m\u001b[1;33m(\u001b[0m\u001b[1;33m(\u001b[0m\u001b[0mother\u001b[0m\u001b[1;33m-\u001b[0m\u001b[0mcontrol\u001b[0m\u001b[1;33m)\u001b[0m\u001b[1;33m-\u001b[0m\u001b[1;36m1\u001b[0m\u001b[1;33m)\u001b[0m\u001b[1;33m:\u001b[0m\u001b[1;33m\u001b[0m\u001b[1;33m\u001b[0m\u001b[0m\n\u001b[1;32m--> 114\u001b[1;33m         \u001b[0mmatrixL\u001b[0m\u001b[1;33m.\u001b[0m\u001b[0mappend\u001b[0m\u001b[1;33m(\u001b[0m\u001b[1;33m(\u001b[0m\u001b[1;33m(\u001b[0m\u001b[0mother\u001b[0m\u001b[1;33m-\u001b[0m\u001b[0mi\u001b[0m\u001b[1;33m,\u001b[0m\u001b[0mother\u001b[0m\u001b[1;33m-\u001b[0m\u001b[0mi\u001b[0m\u001b[1;33m-\u001b[0m\u001b[1;36m1\u001b[0m\u001b[1;33m)\u001b[0m\u001b[1;33m,\u001b[0m\u001b[0mSWAPmatrix\u001b[0m\u001b[1;33m(\u001b[0m\u001b[0mother\u001b[0m\u001b[1;33m-\u001b[0m\u001b[0mi\u001b[0m\u001b[1;33m,\u001b[0m\u001b[0mother\u001b[0m\u001b[1;33m-\u001b[0m\u001b[0mi\u001b[0m\u001b[1;33m-\u001b[0m\u001b[1;36m1\u001b[0m\u001b[1;33m,\u001b[0m\u001b[0mk\u001b[0m\u001b[1;33m)\u001b[0m\u001b[1;33m)\u001b[0m\u001b[1;33m)\u001b[0m\u001b[1;33m\u001b[0m\u001b[1;33m\u001b[0m\u001b[0m\n\u001b[0m\u001b[0;32m    115\u001b[0m     \u001b[1;32mfor\u001b[0m \u001b[0mi\u001b[0m \u001b[1;32min\u001b[0m \u001b[0mrange\u001b[0m\u001b[1;33m(\u001b[0m\u001b[0mlen\u001b[0m\u001b[1;33m(\u001b[0m\u001b[0mmatrixL\u001b[0m\u001b[1;33m)\u001b[0m\u001b[1;33m)\u001b[0m\u001b[1;33m:\u001b[0m\u001b[1;33m\u001b[0m\u001b[1;33m\u001b[0m\u001b[0m\n\u001b[0;32m    116\u001b[0m         \u001b[0motherMatrixL\u001b[0m\u001b[1;33m.\u001b[0m\u001b[0mappend\u001b[0m\u001b[1;33m(\u001b[0m\u001b[0mmatrixL\u001b[0m\u001b[1;33m[\u001b[0m\u001b[0mi\u001b[0m\u001b[1;33m]\u001b[0m\u001b[1;33m)\u001b[0m\u001b[1;33m\u001b[0m\u001b[1;33m\u001b[0m\u001b[0m\n",
      "\u001b[1;32m<ipython-input-33-c27175384ed8>\u001b[0m in \u001b[0;36mSWAPmatrix\u001b[1;34m(Wire1, Wire2, k)\u001b[0m\n\u001b[0;32m     43\u001b[0m         \u001b[1;32melif\u001b[0m \u001b[0mWire1\u001b[0m \u001b[1;33m!=\u001b[0m \u001b[0ml\u001b[0m \u001b[1;32mand\u001b[0m \u001b[0mWire2\u001b[0m \u001b[1;33m!=\u001b[0m \u001b[0ml\u001b[0m\u001b[1;33m:\u001b[0m\u001b[1;33m\u001b[0m\u001b[1;33m\u001b[0m\u001b[0m\n\u001b[0;32m     44\u001b[0m             \u001b[0mmatriceList\u001b[0m\u001b[1;33m.\u001b[0m\u001b[0mappend\u001b[0m\u001b[1;33m(\u001b[0m\u001b[0mI\u001b[0m\u001b[1;33m)\u001b[0m\u001b[1;33m\u001b[0m\u001b[1;33m\u001b[0m\u001b[0m\n\u001b[1;32m---> 45\u001b[1;33m     \u001b[1;32mreturn\u001b[0m \u001b[0mtensorMe\u001b[0m\u001b[1;33m(\u001b[0m\u001b[0mmatriceList\u001b[0m\u001b[1;33m)\u001b[0m\u001b[1;33m\u001b[0m\u001b[1;33m\u001b[0m\u001b[0m\n\u001b[0m\u001b[0;32m     46\u001b[0m \u001b[1;33m\u001b[0m\u001b[0m\n\u001b[0;32m     47\u001b[0m \u001b[1;32mdef\u001b[0m \u001b[0mSWAPgate\u001b[0m\u001b[1;33m(\u001b[0m\u001b[0mwire1\u001b[0m\u001b[1;33m,\u001b[0m\u001b[0mwire2\u001b[0m\u001b[1;33m,\u001b[0m\u001b[0mk\u001b[0m\u001b[1;33m)\u001b[0m\u001b[1;33m:\u001b[0m\u001b[1;33m\u001b[0m\u001b[1;33m\u001b[0m\u001b[0m\n",
      "\u001b[1;32m<ipython-input-33-c27175384ed8>\u001b[0m in \u001b[0;36mtensorMe\u001b[1;34m(listofMatrices)\u001b[0m\n\u001b[0;32m      5\u001b[0m     \u001b[1;32mif\u001b[0m \u001b[0mlen\u001b[0m\u001b[1;33m(\u001b[0m\u001b[0mlistofMatrices\u001b[0m\u001b[1;33m)\u001b[0m \u001b[1;33m>\u001b[0m \u001b[1;36m2\u001b[0m\u001b[1;33m:\u001b[0m\u001b[1;33m\u001b[0m\u001b[1;33m\u001b[0m\u001b[0m\n\u001b[0;32m      6\u001b[0m         \u001b[1;32mfor\u001b[0m \u001b[0ma\u001b[0m \u001b[1;32min\u001b[0m \u001b[0mlistofMatrices\u001b[0m\u001b[1;33m[\u001b[0m\u001b[1;36m2\u001b[0m\u001b[1;33m:\u001b[0m\u001b[1;33m]\u001b[0m\u001b[1;33m:\u001b[0m\u001b[1;33m\u001b[0m\u001b[1;33m\u001b[0m\u001b[0m\n\u001b[1;32m----> 7\u001b[1;33m             \u001b[0mz\u001b[0m \u001b[1;33m=\u001b[0m \u001b[0mnp\u001b[0m\u001b[1;33m.\u001b[0m\u001b[0mkron\u001b[0m\u001b[1;33m(\u001b[0m\u001b[0mz\u001b[0m\u001b[1;33m,\u001b[0m\u001b[0ma\u001b[0m\u001b[1;33m)\u001b[0m\u001b[1;33m\u001b[0m\u001b[1;33m\u001b[0m\u001b[0m\n\u001b[0m\u001b[0;32m      8\u001b[0m         \u001b[0mmatrix\u001b[0m \u001b[1;33m=\u001b[0m \u001b[0mz\u001b[0m\u001b[1;33m\u001b[0m\u001b[1;33m\u001b[0m\u001b[0m\n\u001b[0;32m      9\u001b[0m     \u001b[1;32melse\u001b[0m\u001b[1;33m:\u001b[0m\u001b[1;33m\u001b[0m\u001b[1;33m\u001b[0m\u001b[0m\n",
      "\u001b[1;32m<__array_function__ internals>\u001b[0m in \u001b[0;36mkron\u001b[1;34m(*args, **kwargs)\u001b[0m\n",
      "\u001b[1;32m~\\Anaconda3\\envs\\name_of_my_env\\lib\\site-packages\\numpy\\lib\\shape_base.py\u001b[0m in \u001b[0;36mkron\u001b[1;34m(a, b)\u001b[0m\n\u001b[0;32m   1139\u001b[0m     \u001b[0maxis\u001b[0m \u001b[1;33m=\u001b[0m \u001b[0mnd\u001b[0m\u001b[1;33m-\u001b[0m\u001b[1;36m1\u001b[0m\u001b[1;33m\u001b[0m\u001b[1;33m\u001b[0m\u001b[0m\n\u001b[0;32m   1140\u001b[0m     \u001b[1;32mfor\u001b[0m \u001b[0m_\u001b[0m \u001b[1;32min\u001b[0m \u001b[0mrange\u001b[0m\u001b[1;33m(\u001b[0m\u001b[0mnd\u001b[0m\u001b[1;33m)\u001b[0m\u001b[1;33m:\u001b[0m\u001b[1;33m\u001b[0m\u001b[1;33m\u001b[0m\u001b[0m\n\u001b[1;32m-> 1141\u001b[1;33m         \u001b[0mresult\u001b[0m \u001b[1;33m=\u001b[0m \u001b[0mconcatenate\u001b[0m\u001b[1;33m(\u001b[0m\u001b[0mresult\u001b[0m\u001b[1;33m,\u001b[0m \u001b[0maxis\u001b[0m\u001b[1;33m=\u001b[0m\u001b[0maxis\u001b[0m\u001b[1;33m)\u001b[0m\u001b[1;33m\u001b[0m\u001b[1;33m\u001b[0m\u001b[0m\n\u001b[0m\u001b[0;32m   1142\u001b[0m     \u001b[0mwrapper\u001b[0m \u001b[1;33m=\u001b[0m \u001b[0mget_array_prepare\u001b[0m\u001b[1;33m(\u001b[0m\u001b[0ma\u001b[0m\u001b[1;33m,\u001b[0m \u001b[0mb\u001b[0m\u001b[1;33m)\u001b[0m\u001b[1;33m\u001b[0m\u001b[1;33m\u001b[0m\u001b[0m\n\u001b[0;32m   1143\u001b[0m     \u001b[1;32mif\u001b[0m \u001b[0mwrapper\u001b[0m \u001b[1;32mis\u001b[0m \u001b[1;32mnot\u001b[0m \u001b[1;32mNone\u001b[0m\u001b[1;33m:\u001b[0m\u001b[1;33m\u001b[0m\u001b[1;33m\u001b[0m\u001b[0m\n",
      "\u001b[1;32m<__array_function__ internals>\u001b[0m in \u001b[0;36mconcatenate\u001b[1;34m(*args, **kwargs)\u001b[0m\n",
      "\u001b[1;31mKeyboardInterrupt\u001b[0m: "
     ]
    }
   ],
   "source": [
    "zlist = []\n",
    "for i in range(100):\n",
    "    zlist.append((QuantumSimulatorIb([(np.sqrt(3),'0000000'),(np.sqrt(7),'0000001')],\"Phase_estimation_7.txt\")))\n",
    "#     print(zlist[i])\n",
    "alist = []\n",
    "for i in range(len(zlist)):\n",
    "    alist.append(phaseEstimation(6,zlist[i][0][0]))\n",
    "plt.hist(alist)\n",
    "plt.plot([0.1432 for i in range(0,70)],range(0,70))\n",
    "plt.title('Histogram')\n",
    "plt.xlabel(\"Phase estimation: $\\Theta_j$\")\n",
    "plt.ylabel('Count')\n",
    "plt.legend(['0.1432'])\n",
    "plt.show()"
   ]
  },
  {
   "cell_type": "code",
   "execution_count": 1742,
   "metadata": {},
   "outputs": [
    {
     "data": {
      "image/png": "[encoded data removed]",
      "text/plain": [
       "<Figure size 432x288 with 1 Axes>"
      ]
     },
     "metadata": {
      "needs_background": "light"
     },
     "output_type": "display_data"
    }
   ],
   "source": [
    "plt.hist(alist,bins=50)\n",
    "plt.title('Histogram')\n",
    "plt.xlabel(\"Phase estimation: $\\Theta_j$\")\n",
    "plt.ylabel('Count')\n",
    "plt.show()"
   ]
  },
  {
   "cell_type": "code",
   "execution_count": 1717,
   "metadata": {},
   "outputs": [
    {
     "data": {
      "text/plain": [
       "0.828125"
      ]
     },
     "execution_count": 1717,
     "metadata": {},
     "output_type": "execute_result"
    }
   ],
   "source": [
    "phaseEstimation(7,'0101011101')"
   ]
  },
  {
   "cell_type": "code",
   "execution_count": 1740,
   "metadata": {},
   "outputs": [
    {
     "data": {
      "text/plain": [
       "1.7320508075688772"
      ]
     },
     "execution_count": 1740,
     "metadata": {},
     "output_type": "execute_result"
    }
   ],
   "source": [
    "[(np.sqrt(3),'0000000'),(np.sqrt(7),'0000001')]"
   ]
  },
  {
   "cell_type": "code",
   "execution_count": 1739,
   "metadata": {},
   "outputs": [
    {
     "data": {
      "text/plain": [
       "2.6457513110645907"
      ]
     },
     "execution_count": 1739,
     "metadata": {},
     "output_type": "execute_result"
    }
   ],
   "source": [
    "np.sqrt(7)"
   ]
  },
  {
   "cell_type": "markdown",
   "metadata": {},
   "source": [
    "## Quantum Simulator Ic"
   ]
  },
  {
   "cell_type": "code",
   "execution_count": 83,
   "metadata": {},
   "outputs": [],
   "source": [
    "def tensor(listofMatrices):\n",
    "    if len(listofMatrices) == 1:\n",
    "        matrix = listofMatrices[0]\n",
    "    else:\n",
    "        z = scipy.sparse.kron(listofMatrices[1],listofMatrices[0],format='csr')\n",
    "        if len(listofMatrices) > 2:\n",
    "            for a in listofMatrices[2:]:\n",
    "                z = scipy.sparse.kron(a,z,format='csr')\n",
    "            matrix = z\n",
    "        else:\n",
    "            matrix = scipy.sparse.kron(listofMatrices[1],listofMatrices[0],format='csr')\n",
    "    return matrix\n",
    "\n",
    "def H(i, k):\n",
    "    # this should apply Hadamard to wire i out of k wires\n",
    "    size, matriceList = 2**k,[]\n",
    "    myMatrix=np.zeros((size,size))\n",
    "    #do stuff\n",
    "    I = scipy.sparse.csr_matrix(scipy.sparse.identity(2,dtype='complex'))\n",
    "    H = scipy.sparse.csr_matrix((1/np.sqrt(2))*np.array([[1,1],[1,-1]]))\n",
    "    if i >= k:\n",
    "        return f'Wire {i} does not exist in this circuit'\n",
    "    for l in range(k):\n",
    "        if i == l:\n",
    "            matriceList.append(H)\n",
    "        else:\n",
    "            matriceList.append(I)\n",
    "    return tensor(matriceList)\n",
    "\n",
    "def P(i,k,theta):\n",
    "    size, matriceList = 2**k,[]\n",
    "    myMatrix=np.zeros((size,size))\n",
    "    #do stuff\n",
    "    I = scipy.sparse.csr_matrix(scipy.sparse.identity(2,dtype='complex'))\n",
    "    P = scipy.sparse.csr_matrix([[1,0],[0,np.exp(1.j*theta)]])\n",
    "    if i >= k:\n",
    "        return f'Wire {i} does not exist in this circuit'\n",
    "    for l in range(k):\n",
    "        if i == l:\n",
    "            matriceList.append(P)\n",
    "        else:\n",
    "            matriceList.append(I)\n",
    "    return tensor(matriceList)\n",
    "\n",
    "def CNOT(controlWire,otherWire,k):\n",
    "    size,matriceList = 2**k,[]\n",
    "    myMatrix=np.zeros((size,size))\n",
    "    I = scipy.sparse.csr_matrix(scipy.sparse.identity(2,dtype='complex'))\n",
    "    if controlWire < otherWire:\n",
    "        H = scipy.sparse.csr_matrix([[1,0,0,0],[0,1,0,0],[0,0,0,1],[0,0,1,0]])\n",
    "    else:\n",
    "        H = scipy.sparse.csr_matrix([[1,0,0,0],[0,0,0,1],[0,0,1,0],[0,1,0,0]])\n",
    "    if otherWire >= k or controlWire >= k:\n",
    "        return f'Wire {i} does not exist in this circuit'\n",
    "    for l in range(k):\n",
    "        if controlWire == l:\n",
    "            matriceList.append(H)\n",
    "        elif controlWire != l and otherWire != l:\n",
    "            matriceList.append(I)\n",
    "    return tensor(matriceList)\n",
    "\n",
    "def QuantumSimulatorIc(State,fileName):\n",
    "    numberOfWires,myInput = ReadInput(fileName)\n",
    "    matrixList = []\n",
    "    newMatrix = scipy.sparse.csr_matrix(scipy.sparse.identity((2**numberOfWires),dtype='complex'))\n",
    "    for i in range(len(myInput)):\n",
    "        if myInput[i][0] == 'H':\n",
    "            matrixList.append(H(int(myInput[i][1]),numberOfWires))\n",
    "        if myInput[i][0] == 'CNOT':\n",
    "            matrixList.append(CNOT(int(myInput[i][1]),int(myInput[i][2]),numberOfWires))\n",
    "        if myInput[i][0] == 'P':\n",
    "            matrixList.append(P(int(myInput[i][1]),numberOfWires,float(myInput[i][2])))\n",
    "        if myInput[i][0] == 'INITSTATE':\n",
    "            State = ReadInputState(myInput[i][2])\n",
    "            \n",
    "    VectorInput = scipy.sparse.csr_matrix(StateToVec(State), dtype = np.cfloat)\n",
    "    \n",
    "    newMatrix = VectorInput @ newMatrix\n",
    "    \n",
    "    for i in reversed(matrixList):\n",
    "        newMatrix = newMatrix @ i\n",
    "        \n",
    "    for i in range(len(myInput)):\n",
    "        if myInput[i][0] == 'MEASURE':\n",
    "            out = Measurement(newMatrix)\n",
    "        else:\n",
    "            out = newMatrix\n",
    "    return out\n",
    "\n",
    "def Measurement(V):\n",
    "    vectorOut = (abs(V)).power(2)\n",
    "    probList = [(0,0)]\n",
    "    z = 0\n",
    "    for i in range(vectorOut.shape[1]):\n",
    "        if vectorOut[0,i] == 0:\n",
    "            continue\n",
    "        z = z + vectorOut[0,i]\n",
    "        probList.append((z,i))\n",
    "    randomNum = np.random.uniform()\n",
    "    for i in range(len(probList) - 1):\n",
    "        if probList[i][0] <= randomNum <= probList[i+1][0]:\n",
    "            wire= probList[i+1][1]\n",
    "    return f'Circuit Measurement: {\"{0:b}\".format(wire)}'"
   ]
  },
  {
   "cell_type": "code",
   "execution_count": 674,
   "metadata": {},
   "outputs": [
    {
     "name": "stdout",
     "output_type": "stream",
     "text": [
      "  (0, 10)\t(-0.07287937488524018-0.023723489712538126j)\n",
      "  (0, 26)\t(0.06633933187469816-0.13000168873714957j)\n",
      "  (0, 8)\t(0.13438171529654752+0.05121216592688404j)\n",
      "  (0, 24)\t(-0.11340735485796198-0.13250563694862652j)\n",
      "  (0, 2)\t(-0.08867677075417554+0.056676848701473506j)\n",
      "  (0, 18)\t(0.028080759259235467+0.07438543276078567j)\n",
      "  (0, 0)\t(-0.014083322515851612+0.12361700437061862j)\n",
      "  (0, 16)\t(-0.03459577254871694-0.21024207205339723j)\n",
      "  (0, 4)\t(-0.12089409718930855-0.07788291603263883j)\n",
      "  (0, 20)\t(0.0835693254983432+0.15308540033194834j)\n",
      "  (0, 6)\t(0.06640185078673151+0.03827533748905326j)\n",
      "  (0, 22)\t(-0.09177804927668616+0.11348187387886327j)\n",
      "  (0, 12)\t(0.11959567731972058-0.03429836306718312j)\n",
      "  (0, 28)\t(-0.1809958498973914+0.11242374597685918j)\n",
      "  (0, 14)\t(0.08629946269917166+0.060234853597834856j)\n",
      "  (0, 30)\t(0.05797555566951981-0.05441099698034318j)\n",
      "  (0, 11)\t(0.16616571664688456+0.12093895629751014j)\n",
      "  (0, 27)\t(-0.27859091059983865-0.0956475622771888j)\n",
      "  (0, 9)\t(-0.09107792164671298-0.08789610791471097j)\n",
      "  (0, 25)\t(-0.1414824356130338+0.0817772710326112j)\n",
      "  (0, 3)\t(0.10204184401557698+0.16334279530357237j)\n",
      "  (0, 19)\t(-0.0032953270442308835-0.2820628968662805j)\n",
      "  (0, 1)\t(0.14189443001455282+0.03210536030484967j)\n",
      "  (0, 17)\t(-0.0782482122027908+0.16665243352886885j)\n",
      "  (0, 5)\t(-0.07094290355268656-0.10482374746951913j)\n",
      "  (0, 21)\t(-0.15533039871527635+0.05076680883698205j)\n",
      "  (0, 7)\t(0.1375791701131498+0.15267366665565077j)\n",
      "  (0, 23)\t(-0.25280420235472-0.15116675199993482j)\n",
      "  (0, 13)\t(0.024643330631363987+0.1433788327642973j)\n",
      "  (0, 29)\t(-0.18391131432943514-0.00851144967950483j)\n",
      "  (0, 15)\t(-0.11185478413400812+0.15678620466743406j)\n",
      "  (0, 31)\t(0.2593278435039242-0.11099282207661296j)\n"
     ]
    }
   ],
   "source": [
    "print(QuantumSimulatorIc([(1,'00000')],'rand (1).circuit'))"
   ]
  },
  {
   "cell_type": "markdown",
   "metadata": {},
   "source": [
    "## Simulator II"
   ]
  },
  {
   "cell_type": "code",
   "execution_count": 87,
   "metadata": {},
   "outputs": [],
   "source": [
    "def Hadamard(inWire,instate):\n",
    "    k = []\n",
    "    s = ''\n",
    "    for i in range(len(instate)):\n",
    "        inputState = list(instate[i][1])\n",
    "        for j in range(len(inputState)):\n",
    "            if j == inWire:\n",
    "                if inputState[j] == '0':\n",
    "                    k.append((1/np.sqrt(2) * instate[i][0],s.join(inputState)))\n",
    "                    inputState[j] = '1'\n",
    "                    k.append((1/np.sqrt(2) * instate[i][0],s.join(inputState)))\n",
    "                elif inputState[j] == '1':\n",
    "                    k.append((-1/np.sqrt(2) * instate[i][0],s.join(inputState)))\n",
    "                    inputState[j] = '0'\n",
    "                    k.append((1/np.sqrt(2) * instate[i][0],s.join(inputState)))\n",
    "        \n",
    "    return k\n",
    "\n",
    "def Phase(inwire,theta,instate):\n",
    "    k = []\n",
    "    s = ''\n",
    "    for i in range(len(instate)):\n",
    "        inputState = list(instate[i][1])\n",
    "        if inputState[inwire] == '1':\n",
    "            inputState[inwire] = '1'\n",
    "            k.append((np.exp(1j*theta)*instate[i][0],s.join(inputState)))\n",
    "        else:\n",
    "            k.append((instate[i][0],instate[i][1]))\n",
    "    return k\n",
    "\n",
    "def CNOT(control,other,instate):\n",
    "    k = []\n",
    "    s = ''\n",
    "    for i in range(len(instate)):\n",
    "        inputState = list(instate[i][1])\n",
    "        if inputState[control] == '1' and inputState[other] == '0':\n",
    "            inputState[other] = '1'\n",
    "            k.append((instate[i][0],s.join(inputState)))                         \n",
    "        elif inputState[control] == '1' and inputState[other] == '1':\n",
    "            inputState[other] = '0'\n",
    "            k.append((instate[i][0],s.join(inputState)))\n",
    "        else:\n",
    "            k.append((instate[i][0],instate[i][1]))\n",
    "    return k\n",
    "\n",
    "def removeDuplicates(inputState):\n",
    "    otherstate,ilist = [],[]\n",
    "    for i in range(len(inputState)):\n",
    "        otherstate.append(inputState[i][1])\n",
    "    onlyState = list(set(otherstate))\n",
    "    for i in range(len(onlyState)):\n",
    "        x = 0\n",
    "        for j in range(len(otherstate)):\n",
    "            if otherstate[j] == onlyState[i]:\n",
    "                x += inputState[j][0]\n",
    "        ilist.append((x,onlyState[i]))\n",
    "    return ilist\n",
    "\n",
    "def QuantumSimulatorII(inputState,fileName):\n",
    "    numberOfWires,myInput = ReadInput(fileName)\n",
    "    newstate = inputState\n",
    "    for i in range(len(myInput)):\n",
    "        if myInput[i][0] == 'H':\n",
    "            newstate = removeDuplicates(Hadamard(int(myInput[i][1]),newstate))\n",
    "        if myInput[i][0] == 'CNOT':\n",
    "            newstate = removeDuplicates(CNOT(int(myInput[i][1]),int(myInput[i][2]),newstate))\n",
    "        if myInput[i][0] == 'P':\n",
    "            newstate = removeDuplicates(Phase(int(myInput[i][1]),float(myInput[i][2]),newstate))\n",
    "        if myInput[i][0] == 'INITSTATE':\n",
    "            newstate = ReadInputState(myInput[i][2])\n",
    "    return newstate"
   ]
  },
  {
   "cell_type": "code",
   "execution_count": 516,
   "metadata": {},
   "outputs": [
    {
     "data": {
      "text/plain": [
       "0.7853981633974483"
      ]
     },
     "execution_count": 516,
     "metadata": {},
     "output_type": "execute_result"
    }
   ],
   "source": [
    "np.pi/4"
   ]
  },
  {
   "cell_type": "code",
   "execution_count": 517,
   "metadata": {},
   "outputs": [
    {
     "data": {
      "text/plain": [
       "[((-0.18082511268453239+0.01438104561772749j), '01000'),\n",
       " ((-0.048941996178234734-0.11635508158684055j), '10101'),\n",
       " ((-0.02131981307535495+0.08774787414090221j), '00010'),\n",
       " ((-0.02667646151394929-0.004062838923814427j), '10011'),\n",
       " ((0.21923132553221591-0.21304182634262642j), '10100'),\n",
       " ((-0.13963947717339315-0.23720129948549148j), '11000'),\n",
       " ((-0.22309649987486385+0.0746289884182196j), '01101'),\n",
       " ((-0.016746063710111725-0.13026586952891356j), '00101'),\n",
       " ((0.1847507110418059-0.005148336320294392j), '11001'),\n",
       " ((0.04895105577891031-0.03001851549580141j), '00001'),\n",
       " ((0.2231675743280913+0.05083463296709693j), '10111'),\n",
       " ((0.05382740960549368-0.06863464649457765j), '01001'),\n",
       " ((-0.007195884290384175+0.15958103150789765j), '01100'),\n",
       " ((0.024190828060211902-0.12445058311966187j), '11101'),\n",
       " ((0.11691184507936053+0.013808709741378308j), '10010'),\n",
       " ((-0.2632220901419421-0.06560050732512163j), '11010'),\n",
       " ((-0.02154097912106914+0.01744613535918265j), '01011'),\n",
       " ((-0.1116091892870344-0.23332812293116612j), '00011'),\n",
       " ((-0.03789377980145897+0.005859520326027703j), '01110'),\n",
       " ((-0.033901258348144725-0.009674003342578126j), '00100'),\n",
       " ((0.07390340399259629-0.05074229743090867j), '01111'),\n",
       " ((-0.09796097290238416+0.013475996833847481j), '00111'),\n",
       " ((-0.1480464106395854+0.08745635006745286j), '10000'),\n",
       " ((-0.20830028473401127+0.07702445377195208j), '11110'),\n",
       " ((-0.1479391543721399-0.10481145122901085j), '10110'),\n",
       " ((0.05476980548434894+0.3061304395854817j), '11111'),\n",
       " ((0.17519678454879786-0.02010633083183433j), '11011'),\n",
       " ((0.15409919900412572-0.039023142873475775j), '00000'),\n",
       " ((0.11220121663454645+0.0012498444406552484j), '11100'),\n",
       " ((-0.19592098529914306+0.009885177232733758j), '00110'),\n",
       " ((0.0010329113421169653-0.0034553374325645703j), '01010'),\n",
       " ((-0.06328890454391892+0.25662035423302676j), '10001')]"
      ]
     },
     "execution_count": 517,
     "metadata": {},
     "output_type": "execute_result"
    }
   ],
   "source": [
    "(QuantumSimulatorII([(1,'00000')],'input.circuit'))"
   ]
  },
  {
   "cell_type": "code",
   "execution_count": 1581,
   "metadata": {},
   "outputs": [
    {
     "data": {
      "text/plain": [
       "[[((0.35355339059327373+0j), '000'),\n",
       "  ((-3.925231146709437e-17-0.35355339059327373j), '001'),\n",
       "  ((-0.3535533905932738+2.1648901405887335e-17j), '010'),\n",
       "  ((6.090121287298171e-17+0.3535533905932738j), '011'),\n",
       "  ((0.35355339059327373+0j), '100'),\n",
       "  ((-3.925231146709437e-17-0.35355339059327373j), '101'),\n",
       "  ((-0.3535533905932738+2.1648901405887335e-17j), '110'),\n",
       "  ((6.090121287298171e-17+0.3535533905932738j), '111')]]"
      ]
     },
     "execution_count": 1581,
     "metadata": {},
     "output_type": "execute_result"
    }
   ],
   "source": [
    "QuantumSimulatorIb([(1,'011')],'QFT_test.txt')"
   ]
  },
  {
   "cell_type": "code",
   "execution_count": 1582,
   "metadata": {},
   "outputs": [
    {
     "data": {
      "text/plain": [
       "[((-0.040280172843978966-0.22092218580979778j), '00000'),\n",
       " ((0.03924518209217251+0.023910857472457456j), '00001'),\n",
       " ((0.24931113173460107+0.06424050348115712j), '00010'),\n",
       " ((-0.15343429572948342+0.03949230797429047j), '00011'),\n",
       " ((0.019060232717810804+0.0706278975188603j), '00100'),\n",
       " ((-0.0329844278039501+0.17641606612352878j), '00101'),\n",
       " ((0.032340106491623416-0.10686903340296813j), '00110'),\n",
       " ((-0.038751220470916066-0.2765494379124836j), '00111'),\n",
       " ((0.17569872128854624+0.0802118296692472j), '01000'),\n",
       " ((-0.0791140866184543+0.03393230533153974j), '01001'),\n",
       " ((-0.0002618274228851705+0.028803850675378204j), '01010'),\n",
       " ((-0.02954193710081099-0.03982329183748581j), '01011'),\n",
       " ((-0.08487408497881357-0.09667995382341463j), '01100'),\n",
       " ((-0.12285063298481397-0.25349512030285387j), '01101'),\n",
       " ((0.008280064368424267-0.14413945036550518j), '01110'),\n",
       " ((-0.047937557394301625+0.19058819747763803j), '01111'),\n",
       " ((0.053740486318704386-0.321280643607038j), '10000'),\n",
       " ((0.08398001446940684-0.09378248017988923j), '10001'),\n",
       " ((-0.15242106616972462-0.1436393977412435j), '10010'),\n",
       " ((-0.14078782879182003+0.0677435001370348j), '10011'),\n",
       " ((-0.09280346303494925-0.16608545624045473j), '10100'),\n",
       " ((-0.011404921406978852+0.10206042336451444j), '10101'),\n",
       " ((0.01650077586463488-0.013575417037277257j), '10110'),\n",
       " ((-0.07665591720802559+0.21505215344295453j), '10111'),\n",
       " ((-0.1096457014705918+0.0022296563825508j), '11000'),\n",
       " ((-0.12054210211225112-0.021805728049899498j), '11001'),\n",
       " ((-0.08387233130198828+0.15160864148748543j), '11010'),\n",
       " ((-0.07413407379282451-0.04969605073660534j), '11011'),\n",
       " ((0.16246184512925146-0.08525473464602462j), '11100'),\n",
       " ((0.2660880351065168-0.20837719446548114j), '11101'),\n",
       " ((0.09428426538458407-0.055914562007190256j), '11110'),\n",
       " ((0.044023799776604346+0.09098434074682517j), '11111')]"
      ]
     },
     "execution_count": 1582,
     "metadata": {},
     "output_type": "execute_result"
    }
   ],
   "source": [
    "QuantumSimulatorIa([(1,'00000')],'QFT_5.txt')"
   ]
  },
  {
   "cell_type": "markdown",
   "metadata": {},
   "source": [
    "## Classic Shor's"
   ]
  },
  {
   "cell_type": "code",
   "execution_count": 117,
   "metadata": {},
   "outputs": [],
   "source": [
    "from math import floor,log10"
   ]
  },
  {
   "cell_type": "code",
   "execution_count": 386,
   "metadata": {},
   "outputs": [],
   "source": [
    "def checkFunc(N):\n",
    "    for i in range(2,floor(np.log2(N))):\n",
    "        x = N**(1/i)\n",
    "        if round(x, 14).is_integer() == True:\n",
    "            return 1\n",
    "    return 0\n",
    "\n",
    "def Shors(N):\n",
    "    if (N % 2 == 0):\n",
    "        if (N // 2) % 2 == 1:\n",
    "            N = N//2\n",
    "        else:\n",
    "            return (\"Number is too even, try again!\")\n",
    "#         return (\"Number is even, try again!\")\n",
    "    if (sympy.isprime(N) == True):\n",
    "        return (\"Number is a prime, try again!\")\n",
    "    if (checkFunc(N) == 1):\n",
    "        return (\"Number has a power, try again!\")\n",
    "    if (N == 1):\n",
    "        return (\"Try again!\")\n",
    "    while True:\n",
    "        randNum = random.randint(1,int(N**0.5))\n",
    "        if (math.gcd(randNum,N) != 1):\n",
    "            continue\n",
    "        r = find_period(randNum,N)\n",
    "        fac = (math.gcd(((((randNum)**int(r/2)) - 1)%N),N))\n",
    "        tor = (math.gcd(((((randNum)**int(r/2)) + 1)%N),N))\n",
    "        if fac != 1 and tor != N and fac != N and tor != 1:\n",
    "            if (N // 2) % 2 == 1:\n",
    "                return print(f' Factors of {N*2}: {2,fac,tor}',f'(x,r) : {(randNum,r)}')\n",
    "            else:\n",
    "                return print(f' Factors of {N}: {fac,tor}',f'(x,r) : {(randNum,r)}')\n",
    "        else:\n",
    "            continue\n",
    "    return 0 \n",
    "\n",
    "def find_period(randNum,N):\n",
    "    r = 1\n",
    "    while r < N:\n",
    "        if (randNum**r) % N == 1 and r % 2 !=1:\n",
    "            return r\n",
    "        else:\n",
    "            r += 1\n",
    "    return 0"
   ]
  },
  {
   "cell_type": "code",
   "execution_count": 387,
   "metadata": {},
   "outputs": [
    {
     "name": "stdout",
     "output_type": "stream",
     "text": [
      "0 Number is too even, try again!\n",
      "1 Try again!\n",
      "2 Try again!\n",
      "3 Number is a prime, try again!\n",
      "4 Number is too even, try again!\n",
      "5 Number is a prime, try again!\n",
      "6 Number is a prime, try again!\n",
      "7 Number is a prime, try again!\n",
      "8 Number is too even, try again!\n",
      "9 Number has a power, try again!\n",
      "10 Number is a prime, try again!\n",
      "11 Number is a prime, try again!\n",
      "12 Number is too even, try again!\n",
      "13 Number is a prime, try again!\n",
      "14 Number is a prime, try again!\n",
      " Factors of 30: (2, 3, 5) (x,r) : (2, 4)\n",
      "15 None\n",
      "16 Number is too even, try again!\n",
      "17 Number is a prime, try again!\n",
      "18 Number has a power, try again!\n",
      "19 Number is a prime, try again!\n",
      "20 Number is too even, try again!\n",
      " Factors of 21: (7, 3) (x,r) : (2, 6)\n",
      "21 None\n",
      "22 Number is a prime, try again!\n",
      "23 Number is a prime, try again!\n",
      "24 Number is too even, try again!\n",
      "25 Number has a power, try again!\n",
      "26 Number is a prime, try again!\n",
      "27 Number has a power, try again!\n",
      "28 Number is too even, try again!\n",
      "29 Number is a prime, try again!\n",
      " Factors of 30: (2, 3, 5) (x,r) : (2, 4)\n",
      "30 None\n",
      "31 Number is a prime, try again!\n",
      "32 Number is too even, try again!\n",
      " Factors of 33: (11, 3) (x,r) : (5, 10)\n",
      "33 None\n",
      "34 Number is a prime, try again!\n",
      " Factors of 70: (2, 7, 5) (x,r) : (3, 12)\n",
      "35 None\n",
      "36 Number is too even, try again!\n",
      "37 Number is a prime, try again!\n",
      "38 Number is a prime, try again!\n",
      " Factors of 78: (2, 3, 13) (x,r) : (2, 12)\n",
      "39 None\n",
      "40 Number is too even, try again!\n",
      "41 Number is a prime, try again!\n",
      " Factors of 21: (7, 3) (x,r) : (2, 6)\n",
      "42 None\n",
      "43 Number is a prime, try again!\n",
      "44 Number is too even, try again!\n",
      " Factors of 45: (9, 5) (x,r) : (4, 6)\n",
      "45 None\n",
      "46 Number is a prime, try again!\n",
      "47 Number is a prime, try again!\n",
      "48 Number is too even, try again!\n",
      "49 Number has a power, try again!\n",
      "50 Number has a power, try again!\n",
      " Factors of 102: (2, 3, 17) (x,r) : (5, 16)\n",
      "51 None\n",
      "52 Number is too even, try again!\n",
      "53 Number is a prime, try again!\n",
      "54 Number has a power, try again!\n",
      " Factors of 110: (2, 11, 5) (x,r) : (4, 10)\n",
      "55 None\n",
      "56 Number is too even, try again!\n",
      " Factors of 57: (19, 3) (x,r) : (5, 18)\n",
      "57 None\n",
      "58 Number is a prime, try again!\n",
      "59 Number is a prime, try again!\n",
      "60 Number is too even, try again!\n",
      "61 Number is a prime, try again!\n",
      "62 Number is a prime, try again!\n",
      " Factors of 126: (2, 7, 9) (x,r) : (2, 6)\n",
      "63 None\n",
      "64 Number is too even, try again!\n",
      " Factors of 65: (5, 13) (x,r) : (6, 12)\n",
      "65 None\n",
      " Factors of 33: (11, 3) (x,r) : (5, 10)\n",
      "66 None\n",
      "67 Number is a prime, try again!\n",
      "68 Number is too even, try again!\n",
      " Factors of 69: (3, 23) (x,r) : (7, 22)\n",
      "69 None\n",
      " Factors of 70: (2, 7, 5) (x,r) : (2, 12)\n",
      "70 None\n",
      "71 Number is a prime, try again!\n",
      "72 Number is too even, try again!\n",
      "73 Number is a prime, try again!\n",
      "74 Number is a prime, try again!\n",
      " Factors of 150: (2, 3, 25) (x,r) : (8, 20)\n",
      "75 None\n",
      "76 Number is too even, try again!\n",
      " Factors of 77: (11, 7) (x,r) : (5, 30)\n",
      "77 None\n",
      " Factors of 78: (2, 3, 13) (x,r) : (5, 4)\n",
      "78 None\n",
      "79 Number is a prime, try again!\n",
      "80 Number is too even, try again!\n",
      "81 Number has a power, try again!\n",
      "82 Number is a prime, try again!\n",
      "83 Number is a prime, try again!\n",
      "84 Number is too even, try again!\n",
      " Factors of 85: (5, 17) (x,r) : (9, 8)\n",
      "85 None\n",
      "86 Number is a prime, try again!\n",
      " Factors of 174: (2, 3, 29) (x,r) : (8, 28)\n",
      "87 None\n",
      "88 Number is too even, try again!\n",
      "89 Number is a prime, try again!\n",
      " Factors of 45: (9, 5) (x,r) : (2, 12)\n",
      "90 None\n",
      " Factors of 182: (2, 13, 7) (x,r) : (3, 6)\n",
      "91 None\n",
      "92 Number is too even, try again!\n",
      " Factors of 93: (31, 3) (x,r) : (8, 10)\n",
      "93 None\n",
      "94 Number is a prime, try again!\n",
      " Factors of 190: (2, 19, 5) (x,r) : (4, 18)\n",
      "95 None\n",
      "96 Number is too even, try again!\n",
      "97 Number is a prime, try again!\n",
      "98 Number has a power, try again!\n",
      " Factors of 198: (2, 9, 11) (x,r) : (7, 30)\n",
      "99 None\n"
     ]
    }
   ],
   "source": [
    "for i in range(100):\n",
    "    print(i,Shors(i))"
   ]
  },
  {
   "cell_type": "code",
   "execution_count": 395,
   "metadata": {},
   "outputs": [
    {
     "name": "stdout",
     "output_type": "stream",
     "text": [
      " Factors of 45: (9, 5) (x,r) : (4, 6)\n",
      " Factors of 45: (9, 5) (x,r) : (2, 12)\n",
      " Factors of 45: (9, 5) (x,r) : (2, 12)\n",
      " Factors of 45: (9, 5) (x,r) : (2, 12)\n",
      " Factors of 45: (9, 5) (x,r) : (2, 12)\n",
      " Factors of 45: (9, 5) (x,r) : (2, 12)\n",
      " Factors of 45: (9, 5) (x,r) : (2, 12)\n",
      " Factors of 45: (9, 5) (x,r) : (2, 12)\n",
      " Factors of 45: (9, 5) (x,r) : (4, 6)\n",
      " Factors of 45: (9, 5) (x,r) : (2, 12)\n"
     ]
    }
   ],
   "source": [
    "for i in range(0,10):\n",
    "    Shors(45)"
   ]
  },
  {
   "cell_type": "code",
   "execution_count": null,
   "metadata": {},
   "outputs": [],
   "source": []
  },
  {
   "cell_type": "code",
   "execution_count": null,
   "metadata": {},
   "outputs": [],
   "source": []
  }
 ],
 "metadata": {
  "kernelspec": {
   "display_name": "Python 3",
   "language": "python",
   "name": "python3"
  },
  "language_info": {
   "codemirror_mode": {
    "name": "ipython",
    "version": 3
   },
   "file_extension": ".py",
   "mimetype": "text/x-python",
   "name": "python",
   "nbconvert_exporter": "python",
   "pygments_lexer": "ipython3",
   "version": "3.7.3"
  }
 },
 "nbformat": 4,
 "nbformat_minor": 2
}
